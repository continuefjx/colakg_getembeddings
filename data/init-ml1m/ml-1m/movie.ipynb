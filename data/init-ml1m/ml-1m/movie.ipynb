{
 "cells": [
  {
   "cell_type": "code",
   "id": "1ff809e1",
   "metadata": {
    "ExecuteTime": {
     "end_time": "2025-09-11T01:59:35.783518Z",
     "start_time": "2025-09-11T01:59:34.975905Z"
    }
   },
   "source": [
    "import pandas as pd\n",
    "import numpy as np\n"
   ],
   "outputs": [],
   "execution_count": 1
  },
  {
   "metadata": {
    "ExecuteTime": {
     "end_time": "2025-09-11T02:49:57.500046Z",
     "start_time": "2025-09-11T02:49:52.764499Z"
    }
   },
   "cell_type": "code",
   "source": [
    "rating_path='./ratings.dat'\n",
    "rat_cont=pd.read_csv(rating_path,sep=\"::\",header=None,names=['userId','movieId','rating','time'])\n",
    "print(rat_cont.head(5))"
   ],
   "id": "a6af7050b3d8e312",
   "outputs": [
    {
     "name": "stderr",
     "output_type": "stream",
     "text": [
      "C:\\Users\\Lenovo\\AppData\\Local\\Temp\\ipykernel_6464\\2016573055.py:2: ParserWarning: Falling back to the 'python' engine because the 'c' engine does not support regex separators (separators > 1 char and different from '\\s+' are interpreted as regex); you can avoid this warning by specifying engine='python'.\n",
      "  rat_cont=pd.read_csv(rating_path,sep=\":?\",header=None,names=['userId','movieId','rating','time'])\n"
     ]
    },
    {
     "ename": "ParserError",
     "evalue": "Expected 23 fields in line 800, saw 24. Error could possibly be due to quotes being ignored when a multi-char delimiter is used.",
     "output_type": "error",
     "traceback": [
      "\u001B[1;31m---------------------------------------------------------------------------\u001B[0m",
      "\u001B[1;31mParserError\u001B[0m                               Traceback (most recent call last)",
      "Cell \u001B[1;32mIn[6], line 2\u001B[0m\n\u001B[0;32m      1\u001B[0m rating_path\u001B[38;5;241m=\u001B[39m\u001B[38;5;124m'\u001B[39m\u001B[38;5;124m./ratings.dat\u001B[39m\u001B[38;5;124m'\u001B[39m\n\u001B[1;32m----> 2\u001B[0m rat_cont\u001B[38;5;241m=\u001B[39mpd\u001B[38;5;241m.\u001B[39mread_csv(rating_path,sep\u001B[38;5;241m=\u001B[39m\u001B[38;5;124m\"\u001B[39m\u001B[38;5;124m:?\u001B[39m\u001B[38;5;124m\"\u001B[39m,header\u001B[38;5;241m=\u001B[39m\u001B[38;5;28;01mNone\u001B[39;00m,names\u001B[38;5;241m=\u001B[39m[\u001B[38;5;124m'\u001B[39m\u001B[38;5;124muserId\u001B[39m\u001B[38;5;124m'\u001B[39m,\u001B[38;5;124m'\u001B[39m\u001B[38;5;124mmovieId\u001B[39m\u001B[38;5;124m'\u001B[39m,\u001B[38;5;124m'\u001B[39m\u001B[38;5;124mrating\u001B[39m\u001B[38;5;124m'\u001B[39m,\u001B[38;5;124m'\u001B[39m\u001B[38;5;124mtime\u001B[39m\u001B[38;5;124m'\u001B[39m])\n\u001B[0;32m      3\u001B[0m \u001B[38;5;28mprint\u001B[39m(rat_cont\u001B[38;5;241m.\u001B[39mhead(\u001B[38;5;241m5\u001B[39m))\n",
      "File \u001B[1;32mD:\\anaconda\\Lib\\site-packages\\pandas\\io\\parsers\\readers.py:1026\u001B[0m, in \u001B[0;36mread_csv\u001B[1;34m(filepath_or_buffer, sep, delimiter, header, names, index_col, usecols, dtype, engine, converters, true_values, false_values, skipinitialspace, skiprows, skipfooter, nrows, na_values, keep_default_na, na_filter, verbose, skip_blank_lines, parse_dates, infer_datetime_format, keep_date_col, date_parser, date_format, dayfirst, cache_dates, iterator, chunksize, compression, thousands, decimal, lineterminator, quotechar, quoting, doublequote, escapechar, comment, encoding, encoding_errors, dialect, on_bad_lines, delim_whitespace, low_memory, memory_map, float_precision, storage_options, dtype_backend)\u001B[0m\n\u001B[0;32m   1013\u001B[0m kwds_defaults \u001B[38;5;241m=\u001B[39m _refine_defaults_read(\n\u001B[0;32m   1014\u001B[0m     dialect,\n\u001B[0;32m   1015\u001B[0m     delimiter,\n\u001B[1;32m   (...)\u001B[0m\n\u001B[0;32m   1022\u001B[0m     dtype_backend\u001B[38;5;241m=\u001B[39mdtype_backend,\n\u001B[0;32m   1023\u001B[0m )\n\u001B[0;32m   1024\u001B[0m kwds\u001B[38;5;241m.\u001B[39mupdate(kwds_defaults)\n\u001B[1;32m-> 1026\u001B[0m \u001B[38;5;28;01mreturn\u001B[39;00m _read(filepath_or_buffer, kwds)\n",
      "File \u001B[1;32mD:\\anaconda\\Lib\\site-packages\\pandas\\io\\parsers\\readers.py:626\u001B[0m, in \u001B[0;36m_read\u001B[1;34m(filepath_or_buffer, kwds)\u001B[0m\n\u001B[0;32m    623\u001B[0m     \u001B[38;5;28;01mreturn\u001B[39;00m parser\n\u001B[0;32m    625\u001B[0m \u001B[38;5;28;01mwith\u001B[39;00m parser:\n\u001B[1;32m--> 626\u001B[0m     \u001B[38;5;28;01mreturn\u001B[39;00m parser\u001B[38;5;241m.\u001B[39mread(nrows)\n",
      "File \u001B[1;32mD:\\anaconda\\Lib\\site-packages\\pandas\\io\\parsers\\readers.py:1923\u001B[0m, in \u001B[0;36mTextFileReader.read\u001B[1;34m(self, nrows)\u001B[0m\n\u001B[0;32m   1916\u001B[0m nrows \u001B[38;5;241m=\u001B[39m validate_integer(\u001B[38;5;124m\"\u001B[39m\u001B[38;5;124mnrows\u001B[39m\u001B[38;5;124m\"\u001B[39m, nrows)\n\u001B[0;32m   1917\u001B[0m \u001B[38;5;28;01mtry\u001B[39;00m:\n\u001B[0;32m   1918\u001B[0m     \u001B[38;5;66;03m# error: \"ParserBase\" has no attribute \"read\"\u001B[39;00m\n\u001B[0;32m   1919\u001B[0m     (\n\u001B[0;32m   1920\u001B[0m         index,\n\u001B[0;32m   1921\u001B[0m         columns,\n\u001B[0;32m   1922\u001B[0m         col_dict,\n\u001B[1;32m-> 1923\u001B[0m     ) \u001B[38;5;241m=\u001B[39m \u001B[38;5;28mself\u001B[39m\u001B[38;5;241m.\u001B[39m_engine\u001B[38;5;241m.\u001B[39mread(  \u001B[38;5;66;03m# type: ignore[attr-defined]\u001B[39;00m\n\u001B[0;32m   1924\u001B[0m         nrows\n\u001B[0;32m   1925\u001B[0m     )\n\u001B[0;32m   1926\u001B[0m \u001B[38;5;28;01mexcept\u001B[39;00m \u001B[38;5;167;01mException\u001B[39;00m:\n\u001B[0;32m   1927\u001B[0m     \u001B[38;5;28mself\u001B[39m\u001B[38;5;241m.\u001B[39mclose()\n",
      "File \u001B[1;32mD:\\anaconda\\Lib\\site-packages\\pandas\\io\\parsers\\python_parser.py:288\u001B[0m, in \u001B[0;36mPythonParser.read\u001B[1;34m(self, rows)\u001B[0m\n\u001B[0;32m    285\u001B[0m     indexnamerow \u001B[38;5;241m=\u001B[39m content[\u001B[38;5;241m0\u001B[39m]\n\u001B[0;32m    286\u001B[0m     content \u001B[38;5;241m=\u001B[39m content[\u001B[38;5;241m1\u001B[39m:]\n\u001B[1;32m--> 288\u001B[0m alldata \u001B[38;5;241m=\u001B[39m \u001B[38;5;28mself\u001B[39m\u001B[38;5;241m.\u001B[39m_rows_to_cols(content)\n\u001B[0;32m    289\u001B[0m data, columns \u001B[38;5;241m=\u001B[39m \u001B[38;5;28mself\u001B[39m\u001B[38;5;241m.\u001B[39m_exclude_implicit_index(alldata)\n\u001B[0;32m    291\u001B[0m conv_data \u001B[38;5;241m=\u001B[39m \u001B[38;5;28mself\u001B[39m\u001B[38;5;241m.\u001B[39m_convert_data(data)\n",
      "File \u001B[1;32mD:\\anaconda\\Lib\\site-packages\\pandas\\io\\parsers\\python_parser.py:1063\u001B[0m, in \u001B[0;36mPythonParser._rows_to_cols\u001B[1;34m(self, content)\u001B[0m\n\u001B[0;32m   1057\u001B[0m             reason \u001B[38;5;241m=\u001B[39m (\n\u001B[0;32m   1058\u001B[0m                 \u001B[38;5;124m\"\u001B[39m\u001B[38;5;124mError could possibly be due to quotes being \u001B[39m\u001B[38;5;124m\"\u001B[39m\n\u001B[0;32m   1059\u001B[0m                 \u001B[38;5;124m\"\u001B[39m\u001B[38;5;124mignored when a multi-char delimiter is used.\u001B[39m\u001B[38;5;124m\"\u001B[39m\n\u001B[0;32m   1060\u001B[0m             )\n\u001B[0;32m   1061\u001B[0m             msg \u001B[38;5;241m+\u001B[39m\u001B[38;5;241m=\u001B[39m \u001B[38;5;124m\"\u001B[39m\u001B[38;5;124m. \u001B[39m\u001B[38;5;124m\"\u001B[39m \u001B[38;5;241m+\u001B[39m reason\n\u001B[1;32m-> 1063\u001B[0m         \u001B[38;5;28mself\u001B[39m\u001B[38;5;241m.\u001B[39m_alert_malformed(msg, row_num \u001B[38;5;241m+\u001B[39m \u001B[38;5;241m1\u001B[39m)\n\u001B[0;32m   1065\u001B[0m \u001B[38;5;66;03m# see gh-13320\u001B[39;00m\n\u001B[0;32m   1066\u001B[0m zipped_content \u001B[38;5;241m=\u001B[39m \u001B[38;5;28mlist\u001B[39m(lib\u001B[38;5;241m.\u001B[39mto_object_array(content, min_width\u001B[38;5;241m=\u001B[39mcol_len)\u001B[38;5;241m.\u001B[39mT)\n",
      "File \u001B[1;32mD:\\anaconda\\Lib\\site-packages\\pandas\\io\\parsers\\python_parser.py:781\u001B[0m, in \u001B[0;36mPythonParser._alert_malformed\u001B[1;34m(self, msg, row_num)\u001B[0m\n\u001B[0;32m    764\u001B[0m \u001B[38;5;250m\u001B[39m\u001B[38;5;124;03m\"\"\"\u001B[39;00m\n\u001B[0;32m    765\u001B[0m \u001B[38;5;124;03mAlert a user about a malformed row, depending on value of\u001B[39;00m\n\u001B[0;32m    766\u001B[0m \u001B[38;5;124;03m`self.on_bad_lines` enum.\u001B[39;00m\n\u001B[1;32m   (...)\u001B[0m\n\u001B[0;32m    778\u001B[0m \u001B[38;5;124;03m    even though we 0-index internally.\u001B[39;00m\n\u001B[0;32m    779\u001B[0m \u001B[38;5;124;03m\"\"\"\u001B[39;00m\n\u001B[0;32m    780\u001B[0m \u001B[38;5;28;01mif\u001B[39;00m \u001B[38;5;28mself\u001B[39m\u001B[38;5;241m.\u001B[39mon_bad_lines \u001B[38;5;241m==\u001B[39m \u001B[38;5;28mself\u001B[39m\u001B[38;5;241m.\u001B[39mBadLineHandleMethod\u001B[38;5;241m.\u001B[39mERROR:\n\u001B[1;32m--> 781\u001B[0m     \u001B[38;5;28;01mraise\u001B[39;00m ParserError(msg)\n\u001B[0;32m    782\u001B[0m \u001B[38;5;28;01mif\u001B[39;00m \u001B[38;5;28mself\u001B[39m\u001B[38;5;241m.\u001B[39mon_bad_lines \u001B[38;5;241m==\u001B[39m \u001B[38;5;28mself\u001B[39m\u001B[38;5;241m.\u001B[39mBadLineHandleMethod\u001B[38;5;241m.\u001B[39mWARN:\n\u001B[0;32m    783\u001B[0m     warnings\u001B[38;5;241m.\u001B[39mwarn(\n\u001B[0;32m    784\u001B[0m         \u001B[38;5;124mf\u001B[39m\u001B[38;5;124m\"\u001B[39m\u001B[38;5;124mSkipping line \u001B[39m\u001B[38;5;132;01m{\u001B[39;00mrow_num\u001B[38;5;132;01m}\u001B[39;00m\u001B[38;5;124m: \u001B[39m\u001B[38;5;132;01m{\u001B[39;00mmsg\u001B[38;5;132;01m}\u001B[39;00m\u001B[38;5;130;01m\\n\u001B[39;00m\u001B[38;5;124m\"\u001B[39m,\n\u001B[0;32m    785\u001B[0m         ParserWarning,\n\u001B[0;32m    786\u001B[0m         stacklevel\u001B[38;5;241m=\u001B[39mfind_stack_level(),\n\u001B[0;32m    787\u001B[0m     )\n",
      "\u001B[1;31mParserError\u001B[0m: Expected 23 fields in line 800, saw 24. Error could possibly be due to quotes being ignored when a multi-char delimiter is used."
     ]
    }
   ],
   "execution_count": 6
  },
  {
   "metadata": {},
   "cell_type": "code",
   "outputs": [],
   "execution_count": null,
   "source": [
    "user_path='users.dat'\n",
    "user_cont=pd.read_csv(user_path,sep=\":?\",header=None)"
   ],
   "id": "87fb6025f58131ed"
  }
 ],
 "metadata": {
  "kernelspec": {
   "display_name": "ltgnn",
   "language": "python",
   "name": "python3"
  },
  "language_info": {
   "name": "python",
   "version": "3.11.13"
  }
 },
 "nbformat": 4,
 "nbformat_minor": 5
}
