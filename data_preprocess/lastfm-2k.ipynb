{
 "cells": [
  {
   "cell_type": "code",
   "id": "ac48cddb-42a0-4153-a7b1-b5cfd0fea95b",
   "metadata": {
    "ExecuteTime": {
     "end_time": "2025-10-04T04:23:40.229880Z",
     "start_time": "2025-10-04T04:23:37.061636Z"
    }
   },
   "source": [
    "import pandas as pd\n",
    "path = \"../data/lastfm/\"\n",
    "\n",
    "artists_df = pd.read_csv(path+'artists.dat', sep='\\t', header=0, names=['artistID', 'name', 'url', 'pictureURL'])\n",
    "\n",
    "tags_df = pd.read_csv(path+'tags.dat', sep='\\t', header=0, encoding='ISO-8859-1')\n",
    "# print(\"\\nTags DataFrame:\")\n",
    "\n",
    "\n",
    "user_artists_df = pd.read_csv(path+'user_artists.dat', sep='\\t', header=0)\n",
    "# print(\"\\nUser Artists DataFrame:\")\n",
    "# print(user_artists_df.head())\n",
    "\n",
    "user_taggedartists_df = pd.read_csv(path+'user_taggedartists.dat', sep='\\t', header=0)\n",
    "# print(\"\\nUser Tagged Artists DataFrame:\")\n",
    "# print(user_taggedartists_df.head())\n",
    "\n",
    "user_taggedartists_timestamps_df = pd.read_csv(path+'user_taggedartists-timestamps.dat', sep='\\t', header=0)\n",
    "# print(\"\\nUser Tagged Artists Timestamps DataFrame:\")\n",
    "# print(user_taggedartists_timestamps_df.head())\n",
    "\n",
    "user_friends_df = pd.read_csv(path+'user_friends.dat', sep='\\t', header=0)\n",
    "# print(\"\\nUser Friends DataFrame:\")\n",
    "# print(user_friends_df.head())\n",
    "\n",
    "artist_tags = user_taggedartists_timestamps_df.groupby('artistID')['tagID'].apply(lambda x: list(set(x))).reset_index()\n",
    "artist_tags['tagCount'] = artist_tags['tagID'].apply(len)\n",
    "artists = pd.merge(artists_df, artist_tags, how='right', on=\"artistID\")  \n",
    "\n",
    "def get_tag_text(tag_ids):\n",
    "    tag_texts = [tags_dict[tag_id] for tag_id in tag_ids if tag_id in tags_dict]\n",
    "    return tag_texts\n",
    "\n",
    "tags_dict = pd.Series(tags_df.tagValue.values, index=tags_df.tagID).to_dict()\n",
    "artists['tagID_text'] = artists['tagID'].apply(get_tag_text)\n",
    "# print(artists.columns)\n",
    "# print(artists.head(3))\n",
    "# item_map_cont=pd.read_csv(path+'item_map.txt',sep=' ')\n",
    "# item_map_cont.columns=['item_id','remap_id']\n",
    "# print(item_map_cont.head(5))\n",
    "# artists_info=pd.merge(artists,item_map_cont,how='left',on=['item_id']).dropna(subset=['remap_id'],how='any')\n",
    "\n",
    "\n",
    "        "
   ],
   "outputs": [],
   "execution_count": 2
  },
  {
   "cell_type": "code",
   "id": "f085ce5e-e8b7-4224-a6d3-efc4f4b5de48",
   "metadata": {
    "ExecuteTime": {
     "end_time": "2025-10-04T04:23:42.029525Z",
     "start_time": "2025-10-04T04:23:42.008978Z"
    }
   },
   "source": [
    "artists"
   ],
   "outputs": [
    {
     "data": {
      "text/plain": [
       "       artistID               name  \\\n",
       "0             1       MALICE MIZER   \n",
       "1             2    Diary of Dreams   \n",
       "2             3  Carpathian Forest   \n",
       "3             4       Moi dix Mois   \n",
       "4             5        Bella Morte   \n",
       "...         ...                ...   \n",
       "12518     18737      Ciccone Youth   \n",
       "12519     18739         Apollo 440   \n",
       "12520     18740         Die Krupps   \n",
       "12521     18741     Diamanda Galás   \n",
       "12522     18744       Oz Alchemist   \n",
       "\n",
       "                                                url  \\\n",
       "0             http://www.last.fm/music/MALICE+MIZER   \n",
       "1          http://www.last.fm/music/Diary+of+Dreams   \n",
       "2        http://www.last.fm/music/Carpathian+Forest   \n",
       "3             http://www.last.fm/music/Moi+dix+Mois   \n",
       "4              http://www.last.fm/music/Bella+Morte   \n",
       "...                                             ...   \n",
       "12518        http://www.last.fm/music/Ciccone+Youth   \n",
       "12519           http://www.last.fm/music/Apollo+440   \n",
       "12520           http://www.last.fm/music/Die+Krupps   \n",
       "12521  http://www.last.fm/music/Diamanda+Gal%C3%A1s   \n",
       "12522         http://www.last.fm/music/Oz+Alchemist   \n",
       "\n",
       "                                              pictureURL  \\\n",
       "0        http://userserve-ak.last.fm/serve/252/10808.jpg   \n",
       "1      http://userserve-ak.last.fm/serve/252/3052066.jpg   \n",
       "2      http://userserve-ak.last.fm/serve/252/40222717...   \n",
       "3      http://userserve-ak.last.fm/serve/252/54697835...   \n",
       "4      http://userserve-ak.last.fm/serve/252/14789013...   \n",
       "...                                                  ...   \n",
       "12518  http://userserve-ak.last.fm/serve/252/56318105...   \n",
       "12519  http://userserve-ak.last.fm/serve/252/6561781.jpg   \n",
       "12520   http://userserve-ak.last.fm/serve/252/110294.jpg   \n",
       "12521  http://userserve-ak.last.fm/serve/252/16352971...   \n",
       "12522  http://userserve-ak.last.fm/serve/252/29297695...   \n",
       "\n",
       "                                                   tagID  tagCount  \\\n",
       "0                  [2850, 1219, 552, 139, 141, 179, 541]         7   \n",
       "1      [233, 190, 14, 18, 179, 727, 10137, 127, 61, 3...        11   \n",
       "2                      [4122, 4, 2092, 8882, 4117, 3706]         6   \n",
       "3             [1, 7, 9640, 7561, 73, 139, 141, 179, 541]         9   \n",
       "4                             [612, 1097, 179, 190, 575]         5   \n",
       "...                                                  ...       ...   \n",
       "12518                            [67, 3660, 79, 25, 187]         5   \n",
       "12519                [73, 78, 79, 370, 18, 21, 121, 187]         8   \n",
       "12520                                           [61, 86]         2   \n",
       "12521                                        [33, 11861]         2   \n",
       "12522  [32, 574, 3081, 3660, 13, 14, 15, 79, 3666, 56...        14   \n",
       "\n",
       "                                              tagID_text  \n",
       "0      [better than lady gaga, jrock, weeabo, j-rock,...  \n",
       "1      [dark, gothic rock, ambient, electronic, gothi...  \n",
       "2      [norsk arysk metal, black metal, norwegian bla...  \n",
       "3      [metal, gothic metal, bazarov, gothic japanese...  \n",
       "4      [deathrock, covers, gothic, gothic rock, darkw...  \n",
       "...                                                  ...  \n",
       "12518  [noise, trip beat, alternative, 80s, electronica]  \n",
       "12519  [rock, alternative rock, alternative, favorite...  \n",
       "12520                                  [industrial, ebm]  \n",
       "12521                         [experimental, dead music]  \n",
       "12522  [avant-garde, dark ambient, aphex twin, trip b...  \n",
       "\n",
       "[12523 rows x 7 columns]"
      ],
      "text/html": [
       "<div>\n",
       "<style scoped>\n",
       "    .dataframe tbody tr th:only-of-type {\n",
       "        vertical-align: middle;\n",
       "    }\n",
       "\n",
       "    .dataframe tbody tr th {\n",
       "        vertical-align: top;\n",
       "    }\n",
       "\n",
       "    .dataframe thead th {\n",
       "        text-align: right;\n",
       "    }\n",
       "</style>\n",
       "<table border=\"1\" class=\"dataframe\">\n",
       "  <thead>\n",
       "    <tr style=\"text-align: right;\">\n",
       "      <th></th>\n",
       "      <th>artistID</th>\n",
       "      <th>name</th>\n",
       "      <th>url</th>\n",
       "      <th>pictureURL</th>\n",
       "      <th>tagID</th>\n",
       "      <th>tagCount</th>\n",
       "      <th>tagID_text</th>\n",
       "    </tr>\n",
       "  </thead>\n",
       "  <tbody>\n",
       "    <tr>\n",
       "      <th>0</th>\n",
       "      <td>1</td>\n",
       "      <td>MALICE MIZER</td>\n",
       "      <td>http://www.last.fm/music/MALICE+MIZER</td>\n",
       "      <td>http://userserve-ak.last.fm/serve/252/10808.jpg</td>\n",
       "      <td>[2850, 1219, 552, 139, 141, 179, 541]</td>\n",
       "      <td>7</td>\n",
       "      <td>[better than lady gaga, jrock, weeabo, j-rock,...</td>\n",
       "    </tr>\n",
       "    <tr>\n",
       "      <th>1</th>\n",
       "      <td>2</td>\n",
       "      <td>Diary of Dreams</td>\n",
       "      <td>http://www.last.fm/music/Diary+of+Dreams</td>\n",
       "      <td>http://userserve-ak.last.fm/serve/252/3052066.jpg</td>\n",
       "      <td>[233, 190, 14, 18, 179, 727, 10137, 127, 61, 3...</td>\n",
       "      <td>11</td>\n",
       "      <td>[dark, gothic rock, ambient, electronic, gothi...</td>\n",
       "    </tr>\n",
       "    <tr>\n",
       "      <th>2</th>\n",
       "      <td>3</td>\n",
       "      <td>Carpathian Forest</td>\n",
       "      <td>http://www.last.fm/music/Carpathian+Forest</td>\n",
       "      <td>http://userserve-ak.last.fm/serve/252/40222717...</td>\n",
       "      <td>[4122, 4, 2092, 8882, 4117, 3706]</td>\n",
       "      <td>6</td>\n",
       "      <td>[norsk arysk metal, black metal, norwegian bla...</td>\n",
       "    </tr>\n",
       "    <tr>\n",
       "      <th>3</th>\n",
       "      <td>4</td>\n",
       "      <td>Moi dix Mois</td>\n",
       "      <td>http://www.last.fm/music/Moi+dix+Mois</td>\n",
       "      <td>http://userserve-ak.last.fm/serve/252/54697835...</td>\n",
       "      <td>[1, 7, 9640, 7561, 73, 139, 141, 179, 541]</td>\n",
       "      <td>9</td>\n",
       "      <td>[metal, gothic metal, bazarov, gothic japanese...</td>\n",
       "    </tr>\n",
       "    <tr>\n",
       "      <th>4</th>\n",
       "      <td>5</td>\n",
       "      <td>Bella Morte</td>\n",
       "      <td>http://www.last.fm/music/Bella+Morte</td>\n",
       "      <td>http://userserve-ak.last.fm/serve/252/14789013...</td>\n",
       "      <td>[612, 1097, 179, 190, 575]</td>\n",
       "      <td>5</td>\n",
       "      <td>[deathrock, covers, gothic, gothic rock, darkw...</td>\n",
       "    </tr>\n",
       "    <tr>\n",
       "      <th>...</th>\n",
       "      <td>...</td>\n",
       "      <td>...</td>\n",
       "      <td>...</td>\n",
       "      <td>...</td>\n",
       "      <td>...</td>\n",
       "      <td>...</td>\n",
       "      <td>...</td>\n",
       "    </tr>\n",
       "    <tr>\n",
       "      <th>12518</th>\n",
       "      <td>18737</td>\n",
       "      <td>Ciccone Youth</td>\n",
       "      <td>http://www.last.fm/music/Ciccone+Youth</td>\n",
       "      <td>http://userserve-ak.last.fm/serve/252/56318105...</td>\n",
       "      <td>[67, 3660, 79, 25, 187]</td>\n",
       "      <td>5</td>\n",
       "      <td>[noise, trip beat, alternative, 80s, electronica]</td>\n",
       "    </tr>\n",
       "    <tr>\n",
       "      <th>12519</th>\n",
       "      <td>18739</td>\n",
       "      <td>Apollo 440</td>\n",
       "      <td>http://www.last.fm/music/Apollo+440</td>\n",
       "      <td>http://userserve-ak.last.fm/serve/252/6561781.jpg</td>\n",
       "      <td>[73, 78, 79, 370, 18, 21, 121, 187]</td>\n",
       "      <td>8</td>\n",
       "      <td>[rock, alternative rock, alternative, favorite...</td>\n",
       "    </tr>\n",
       "    <tr>\n",
       "      <th>12520</th>\n",
       "      <td>18740</td>\n",
       "      <td>Die Krupps</td>\n",
       "      <td>http://www.last.fm/music/Die+Krupps</td>\n",
       "      <td>http://userserve-ak.last.fm/serve/252/110294.jpg</td>\n",
       "      <td>[61, 86]</td>\n",
       "      <td>2</td>\n",
       "      <td>[industrial, ebm]</td>\n",
       "    </tr>\n",
       "    <tr>\n",
       "      <th>12521</th>\n",
       "      <td>18741</td>\n",
       "      <td>Diamanda Galás</td>\n",
       "      <td>http://www.last.fm/music/Diamanda+Gal%C3%A1s</td>\n",
       "      <td>http://userserve-ak.last.fm/serve/252/16352971...</td>\n",
       "      <td>[33, 11861]</td>\n",
       "      <td>2</td>\n",
       "      <td>[experimental, dead music]</td>\n",
       "    </tr>\n",
       "    <tr>\n",
       "      <th>12522</th>\n",
       "      <td>18744</td>\n",
       "      <td>Oz Alchemist</td>\n",
       "      <td>http://www.last.fm/music/Oz+Alchemist</td>\n",
       "      <td>http://userserve-ak.last.fm/serve/252/29297695...</td>\n",
       "      <td>[32, 574, 3081, 3660, 13, 14, 15, 79, 3666, 56...</td>\n",
       "      <td>14</td>\n",
       "      <td>[avant-garde, dark ambient, aphex twin, trip b...</td>\n",
       "    </tr>\n",
       "  </tbody>\n",
       "</table>\n",
       "<p>12523 rows × 7 columns</p>\n",
       "</div>"
      ]
     },
     "execution_count": 3,
     "metadata": {},
     "output_type": "execute_result"
    }
   ],
   "execution_count": 3
  },
  {
   "cell_type": "code",
   "id": "0d55ec8e-70f6-413b-8e0a-6977e8ac43a6",
   "metadata": {
    "ExecuteTime": {
     "end_time": "2025-10-04T04:24:37.815509Z",
     "start_time": "2025-10-04T04:24:37.785930Z"
    }
   },
   "source": [
    "import numpy as np\n",
    "\n",
    "item_list = path + 'item_map.txt'\n",
    "\n",
    "item_map = {}\n",
    "\n",
    "with open(item_list, 'r') as file:\n",
    "    for line in file:\n",
    "        key, value = line.strip().split()\n",
    "        item_map[int(key)] = int(value)\n",
    "\n",
    "\n",
    "artists = artists[artists['artistID'].isin(set(item_map.keys()))]\n",
    "artists=artists.copy()\n",
    "artists.loc[:,'item_id'] = artists['artistID'].apply(lambda x: item_map[x])#映射出艺术家的id值\n",
    "# artists = artists[['tagID_text', 'artistID', 'item_id']]\n",
    "artists_info=artists[['artistID','name']]\n",
    "print(artists_info.head())\n",
    "print(type(artists_info))\n",
    "artists_map=artists_info.set_index('artistID')['name'].to_dict()\n"
   ],
   "outputs": [
    {
     "name": "stdout",
     "output_type": "stream",
     "text": [
      "   artistID             name\n",
      "1         2  Diary of Dreams\n",
      "5         6        Moonspell\n",
      "6         7   Marilyn Manson\n",
      "7         8      DIR EN GREY\n",
      "8         9      Combichrist\n",
      "<class 'pandas.core.frame.DataFrame'>\n"
     ]
    }
   ],
   "execution_count": 5
  },
  {
   "metadata": {
    "ExecuteTime": {
     "end_time": "2025-10-04T04:30:22.425317Z",
     "start_time": "2025-10-04T04:30:22.233825Z"
    }
   },
   "cell_type": "code",
   "source": [
    "###后来自己加入的\n",
    "\n",
    "import copy\n",
    "\n",
    "item_1stneighbor_text_dic = {}\n",
    "triples = [] \n",
    "\n",
    "single_cols = []\n",
    "multiple_cols = ['tagID']\n",
    "\n",
    "for index, row in artists.iterrows():\n",
    "    triples0 = [] \n",
    "    item_id = row['item_id']\n",
    "    item_name = row['name']\n",
    "\n",
    "    for col in multiple_cols:\n",
    "        tags = row[col]\n",
    "        # triples0.append((item_name, col, row[col]))\n",
    "        for entity in row[col]:\n",
    "            triples.append((item_id, col, entity))  \n",
    "            ##triples.append((entity, col+\"_reverse\", item_name)) \n",
    "\n",
    "    # if len(single_cols) > 0:\n",
    "    #     for col in single_cols:\n",
    "    #         if col not in ['city', 'state','address', 'stars']:\n",
    "    #             relation = col.split(\".\")[-1]\n",
    "    #         else:\n",
    "    #             relation = col\n",
    "                \n",
    "    #         value = row[col]\n",
    "    #         if (isinstance(value, (float, int)) and not np.isnan(value)) or pd.notna(value): \n",
    "    #             triples0.append((business_name, relation, row[col]))\n",
    "    #             if relation in [\"city\", \"categories\", ]:\n",
    "    #                 triples.append((business_id, relation, row[col]))\n",
    "    #                 triples.append((row[col], relation+\"_\", business_id))\n",
    "    #              # 人工组合column\n",
    "    #             if relation in ['stars', \"GoodForKids\", \"RestaurantsDelivery\", \"RestaurantsTakeOut\",\n",
    "    #                                     \"Alcohol\"]:\n",
    "                  \n",
    "    #                 relation = \"city_\"+relation\n",
    "    #                 triples.append((business_id, relation, row['city']+\"_\"+str(row[col])))\n",
    "    #                 triples.append((row['city']+\"_\"+str(row[col]), relation+\"_\", business_id))\n",
    "    \n",
    "    \n",
    "\n",
    "data = pd.DataFrame(triples, columns=['head', 'relation', 'tail'])\n",
    "data = data.dropna()\n",
    "relations=data['relation'].unique()\n",
    "print(relations)\n",
    "print(data.head(5))\n",
    "data.to_csv('../data/lastfm/kg_final.csv',index=False,header=False)\n"
   ],
   "id": "c30101bb804839b2",
   "outputs": [
    {
     "name": "stdout",
     "output_type": "stream",
     "text": [
      "['tagID']\n",
      "   head relation  tail\n",
      "0  2001    tagID   233\n",
      "1  2001    tagID   190\n",
      "2  2001    tagID    14\n",
      "3  2001    tagID    18\n",
      "4  2001    tagID   179\n"
     ]
    }
   ],
   "execution_count": 7
  },
  {
   "metadata": {
    "ExecuteTime": {
     "end_time": "2025-10-04T04:32:01.494465Z",
     "start_time": "2025-10-04T04:32:01.476856Z"
    }
   },
   "cell_type": "code",
   "source": [
    "import torch\n",
    "embedding=torch.load('../data/lastfm/kg_embedding_simcse_kg.pt')\n",
    "print(embedding.shape)"
   ],
   "id": "c89affd93c8006fe",
   "outputs": [
    {
     "ename": "ModuleNotFoundError",
     "evalue": "No module named 'torch'",
     "output_type": "error",
     "traceback": [
      "\u001B[1;31m---------------------------------------------------------------------------\u001B[0m",
      "\u001B[1;31mModuleNotFoundError\u001B[0m                       Traceback (most recent call last)",
      "Cell \u001B[1;32mIn[8], line 1\u001B[0m\n\u001B[1;32m----> 1\u001B[0m \u001B[38;5;28;01mimport\u001B[39;00m \u001B[38;5;21;01mtorch\u001B[39;00m\n\u001B[0;32m      2\u001B[0m embedding\u001B[38;5;241m=\u001B[39mtorch\u001B[38;5;241m.\u001B[39mload(\u001B[38;5;124m'\u001B[39m\u001B[38;5;124m../data/lastfm/kg_embedding_simcse_kg.pt\u001B[39m\u001B[38;5;124m'\u001B[39m)\n\u001B[0;32m      3\u001B[0m \u001B[38;5;28mprint\u001B[39m(embedding\u001B[38;5;241m.\u001B[39mshape)\n",
      "\u001B[1;31mModuleNotFoundError\u001B[0m: No module named 'torch'"
     ]
    }
   ],
   "execution_count": 8
  },
  {
   "metadata": {
    "ExecuteTime": {
     "end_time": "2025-09-21T04:08:57.822083Z",
     "start_time": "2025-09-21T04:08:57.809636Z"
    }
   },
   "cell_type": "code",
   "source": [
    "item_name_map=artists.set_index(artists['name'])['item_id'].to_dict()\n",
    "name_key=item_name_map.keys()\n",
    "print(name_key)"
   ],
   "id": "951af1e358fe3eea",
   "outputs": [
    {
     "name": "stdout",
     "output_type": "stream",
     "text": [
      "dict_keys(['Diary of Dreams', 'Moonspell', 'Marilyn Manson', 'DIR EN GREY', 'Combichrist', 'Grendel', 'Agonoize', 'Behemoth', 'Hocico', 'Dimmu Borgir', 'London After Midnight', 'Psyclon Nine', 'The Crüxshadows', ':wumpscut:', 'Cradle of Filth', 'Laibach', 'Gorgoroth', 'And One', 'Covenant', 'Icon of Coil', 'KMFDM', 'Funker Vogt', 'Dawn of Ashes', 'Sopor Aeternus & The Ensemble of Shadows', 'The Faint', 'God Module', 'Mindless Self Indulgence', 'Pyotr Ilyich Tchaikovsky', 'Emperor', 'Reaper', 'Duran Duran', 'Morcheeba', 'Air', 'Hooverphonic', 'Kylie Minogue', 'Daft Punk', 'Thievery Corporation', 'Goldfrapp', 'New Order', 'Talk Talk', 'Enigma', 'Röyksopp', 'Coldplay', 'Faithless', 'Madonna', 'Icehouse', 'Sade', 'Moby', 'Dido', 'Depeche Mode', 'Café Del Mar', 'Camouflage', 'Electronic', 'George Michael', 'Groove Armada', 'Portishead', 'Marc Almond', 'Cut Copy', 'Spandau Ballet', 'Katie Melua', 'Gorillaz', 'Lady Gaga', 'Kosheen', 'Nik Kershaw', 'Jean-Michel Jarre', 'Simply Red', 'Fleetwood Mac', 'Duffy', 'Japan', 'INXS', 'ABC', 'Pleq', 'Max Richter', 'Burial', 'The Notwist', 'Worm Is Green', 'Library Tapes', 'Deep Forest', 'Porcupine Tree', 'De/Vision', 'Radiohead', 'Robbie Williams', 'VAST', 'Michael Jackson', 'The Cure', 'Enrique Iglesias', 'God Is an Astronaut', 'Pink Floyd', 'Planet Funk', 'The Cranberries', 'Scissor Sisters', 'Mew', 'Stereophonics', 'Garbage', 'Placebo', 'Infected Mushroom', 'Delerium', 'Scorpions', \"Dolores O'Riordan\", 'Roxette', 'Paradise Lost', 'Keane', 'Jamiroquai', 'James Blunt', 'Reamonn', 'Blackfield', 'a-ha', 'Opeth', 'Poets of the Fall', 'Muse', 'OneRepublic', 'Elton John', 'Tears for Fears', 'The Tiger Lillies', 'Bright Eyes', 'Beirut', 'Tom Waits', 'System of a Down', 'Arcade Fire', 'Gogol Bordello', 'Ленинград', 'CAKE', 'Blur', 'Damien Rice', 'Andrew Bird', 'Beck', 'Arctic Monkeys', 'Babyshambles', 'My Chemical Romance', 'Bloc Party', 'The Decemberists', 'Bob Dylan', 'DeVotchKa', 'Jeff Buckley', 'Sparklehorse', 'Death Cab for Cutie', 'Man Man', 'M. Ward', 'Red Hot Chili Peppers', 'Travis', 'Modest Mouse', 'Band of Horses', 'Interpol', 'Queens of the Stone Age', 'The Beatles', 'Kings of Leon', 'The Killers', 'Green Day', 'Devendra Banhart', 'Nine Inch Nails', 'Nirvana', 'Eels', 'Clap Your Hands Say Yeah', 'Thom Yorke', 'Massive Attack', 'Keyshia Cole', \"Racionais MC's\", 'Toni Braxton', 'Bob Marley & The Wailers', 'Adriana Calcanhotto', 'Maxwell', 'Common', 'Bob Marley', 'Whitney Houston', 'Tamia', 'Bryan Adams', 'Kid Abelha', 'Mariah Carey', 'Tina Turner', 'Marisa Monte', 'Mary J. Blige', 'Jill Scott', 'Céline Dion', 'Erykah Badu', 'Nas', 'Richard Marx', 'Maria Bethânia', 'Mos Def', 'Gang Starr', '2Pac', 'Brandy', 'Ana Carolina', 'Janet Jackson', 'Peter Tosh', 'Monica', 'Rihanna', 'Britney Spears', 'Jordin Sparks', 'Kelly Clarkson', 'Christina Aguilera', 'Ashlee Simpson', 'Leona Lewis', 'Beyoncé', 'Sugababes', 'David Cook', 'Lily Allen', 'Jennifer Lopez', 'Katy Perry', 'Alicia Keys', 'P!nk', 'Panic at the Disco', 'David Archuleta', 'Katharine McPhee', 'Black Eyed Peas', 'Kate Voegele', 'Kat DeLuna', 'Danity Kane', 'Nelly Furtado', 'Natasha Bedingfield', 'Cassie', 'Allison Iraheta', 'Ciara', 'Alanis Morissette', 'Keri Hilson', 'Hilary Duff', 'Fergie', 'Jonas Brothers', 'Ashanti', 'The Saturdays', 'Cobra Starship', 'Ashley Tisdale', 'JoJo', 'Chris Brown', 'David Guetta', 'Justin Timberlake', 'T.I.', 'Kanye West', 'Kelly Rowland', 'Avril Lavigne', 'No Angels', 'Cher', 'Colbie Caillat', 'Taylor Swift', 'Lena', 'Wir sind Helden', 'The Pussycat Dolls', 'Monrose', 'Cheryl Cole', 'Sarah Connor', 'Jason Mraz', 'Brad Paisley', 'Silbermond', 'Maria Mena', 'Shania Twain', 'A Fine Frenzy', 'Sugarland', 'Jack Johnson', 'BIG BANG', '2PM', 'Katatonia', 'Skillet', '宇多田ヒカル', '浜崎あゆみ', 'UVERworld', 'Linkin Park', 'Evanescence', '中島美嘉', \"Blackmore's Night\", 'Bad Religion', 'Fairuz', 'Cascada', 'B2ST', 'Enya', 'GACKT', 'Super Junior', \"L'Arc~en~Ciel\", '雅-MIYAVI-', '嵐', '2NE1', 'The All-American Rejects', 'The Rasmus', 'Akira Yamaoka', 'Crossfade', 'G-Dragon', 'blink-182', 'After School', 'The National', 'Sigur Rós', 'Tokyo Police Club', 'The Kills', 'Móveis Coloniais de Acaju', 'Mombojó', 'Bat for Lashes', 'The Strokes', 'Yeah Yeah Yeahs', 'Rilo Kiley', 'The Cribs', 'The Libertines', 'The Smiths', 'Kate Nash', 'Wolf Parade', 'Klaxons', 'Broken Social Scene', 'Spoon', 'The Smashing Pumpkins', 'She & Him', 'O Teatro Mágico', 'Los Hermanos', 'Animal Collective', 'Joy Division', 'The Tallest Man on Earth', 'The Rakes', 'múm', 'Bon Iver', 'Ra Ra Riot', 'Manu Chao', 'Art Brut', 'She Wants Revenge', 'Silverchair', 'Jónsi', 'Backstreet Boys', 'Jesse McCartney', 'Aaron Carter', 'Justin Bieber', '*NSYNC', 'Noize MC', 'Miley Cyrus', 'Blue', 'Savage Garden', '3OH!3', 'Jessica Simpson', 'Ke$ha', 'Darren Hayes', 'Usher', 'Nick Carter', 'nevershoutnever!', 'Metro Station', '3 Doors Down', 'Craig David', 'Eminem', 'M. Pokora', 'Daniel Merriweather', 'ВИА Гра', 'Westlife', 'Simple Plan', 'Jeremih', 'Ne-Yo', 'Kelis', '30 Seconds to Mars', 'The Birthday Massacre', 'Three Days Grace', 'Limp Bizkit', 'Seether', 'Fort Minor', 'Funeral for a Friend', 'Lostprophets', 'Finch', 'Cold', 'Papa Roach', 'Paramore', 'Flyleaf', 'Bullet for My Valentine', 'Angels & Airwaves', 'LaFee', 'In Flames', 'HIM', 'Anathema', 'Saosin', 'P.O.D.', 'U2', 'Deftones', 'Ill Niño', 'Clan of Xymox', 'Celldweller', 'Korn', 'Within Temptation', 'Static-X', 'happysad', 'Lacrimosa', 'Lindsay Lohan', 'Jeffree Star', 'Gwen Stefani', 'La Roux', \"Lil' Wayne\", 'Pixie Lott', 'Paul van Dyk', 'Alphabeat', 'Taio Cruz', 'Little Boots', 'Oasis', 'No Doubt', 'Sophie Ellis-Bextor', 'Good Charlotte', 'The Used', 'Maroon 5', 'Gossip', 'Fall Out Boy', 'Space Cowboy', 'Pitty', 'Nicole Scherzinger', 'Adam Lambert', 'Flo Rida', 'The Ting Tings', 'Kid Cudi', 'Ellie Goulding', 'The Kinks', 'The Who', 'Small Faces', \"Howlin' Wolf\", 'Sam Cooke', 'Otis Redding', 'Little Richard', 'Ray Charles', 'Aretha Franklin', 'Marvin Gaye', 'James Brown', 'Muddy Waters', 'Elmore James', 'Sonny Boy Williamson', 'John Lee Hooker', 'Chuck Berry', 'Charles Aznavour', 'Ennio Morricone', 'David Bowie', 'Prince', 'Iron & Wine', 'Aphex Twin', 'Kings of Convenience', 'Beastie Boys', 'José González', 'Jethro Tull', 'Nick Drake', 'Miles Davis', 'Talking Heads', 'John Coltrane', 'Pearl Jam', 'Elliott Smith', 'Squarepusher', 'The Roots', 'Belle and Sebastian', 'A Tribe Called Quest', 'Pulp', 'The Album Leaf', 'Sufjan Stevens', 'Thelonious Monk', 'Saint Etienne', 'of Montreal', 'Neil Young', 'Einstürzende Neubauten', 'Explosions in the Sky', 'Teen Angels', 'Helena Paparizou', 'Kalomoira', 'Laura Pausini', 'Inna', 'RBD', 'Hadise', 'Dima Bilan', 'Stromae', 'Eric Saade', 'Darin', 'Yohanna', 'Glee Cast', 'The Veronicas', 'Demi Lovato', 'Lights', 'John Mayer', 'Nick Jonas & The Administration', 'Selena Gomez & the Scene', 'All Time Low', 'Honor Society', 'Florence + the Machine', 'Marina & the Diamonds', 'Owl City', 'Mitchel Musso', 'Hey Monday', 'Darren Criss', 'The Pierces', 'Sia', 'Esmée Denters', 'Shakira', 'The xx', 'The Pretty Reckless', 'Engenheiros do Hawaii', 'AC/DC', 'Metallica', 'Capital Inicial', 'The White Stripes', 'Black Label Society', 'Mark Knopfler', 'Dire Straits', 'Legião Urbana', 'R.E.M.', 'Kaiser Chiefs', 'Electric Light Orchestra', 'Johnny Cash', 'Social Distortion', 'ATB', 'Ozzy Osbourne', 'Titãs', 'Apocalyptica', 'Era', 'Eric Clapton', 'Eagles', 'Alice Cooper', 'John Lennon', 'Bruce Springsteen', 'The Rolling Stones', 'Trans-Siberian Orchestra', 'Autechre', 'Carbon Based Lifeforms', 'Boards of Canada', 'Casino Versus Japan', 'Jesu', 'Boris', 'Maximum the Hormone', '65daysofstatic', 'Arovane', 'Crystal Castles', 'Психея', '#####', 'Mono', 'Gridlock', 'Enter Shikari', 'Isis', 'HORSE the band', 'Proem', 'The Crystal Method', 'Ochre', 'Bring Me The Horizon', 'Solar Fields', 'Fear Factory', 'Mandy Moore', 'Paulina Rubio', 'Fey', 'Dannii Minogue', 'Belinda', 'Marie Serneholt', 'Thalía', 'Hannah Montana', 'A*Teens', 'Gloria Trevi', 'Emily Osment', 'Geri Halliwell', 'Atomic Kitten', 'Anahí', 'Five', 'Darkest Hour', 'Parkway Drive', 'Soilwork', 'Rise Against', 'The Black Dahlia Murder', 'All That Remains', 'Sonic Syndicate', 'Dark Tranquillity', 'As I Lay Dying', 'Caliban', 'Killswitch Engage', 'A Day to Remember', '36 Crazyfists', 'At the Gates', 'Amon Amarth', 'August Burns Red', 'Ensiferum', 'Whitechapel', 'Divine Heresy', 'It Prevails', 'Atreyu', 'Emmure', 'I Killed the Prom Queen', 'Five Finger Death Punch', 'Scar Symmetry', 'Eluveitie', 'All Shall Perish', 'Millencolin', 'Slayer', 'Despised Icon', 'Pantera', 'The Dillinger Escape Plan', 'Lamb of God', 'Haste the Day', 'Manic Street Preachers', 'The Stranglers', 'Alice in Chains', \"Jane's Addiction\", 'Soundgarden', 'The Clash', 'PJ Harvey', 'Pixies', 'Stone Temple Pilots', 'Killing Joke', 'Primal Scream', 'The Velvet Underground', 'Ministry', 'Republika', 'Virgin Prunes', 'Nick Cave and the Bad Seeds', 'The Doors', 'Afghan Whigs', 'New Model Army', 'Roxy Music', 'Bauhaus', 'Alphaville', 'Wolfsheim', 'Can', 'Nitzer Ebb', 'Kyuss', 'The Jesus Lizard', 'Tiamat', 'Tracy Chapman', 'Dragonette', 'New Young Pony Club', 'Cyndi Lauper', 'Jewel', 'Dixie Chicks', 'Chew Lips', 'Noisettes', 'Tegan and Sara', 'Missy Higgins', 'Annie Lennox', 'VV Brown', 'Amy Winehouse', 'Crowded House', 'Girls Aloud', 'Timbaland', 'Vanessa Hudgens', 'Delta Goodrem', 'John Williams', 'Rachel Stevens', 'Carter Burwell', \"Destiny's Child\", 'Medina', 'Alexandra Burke', 'Iron Maiden', 'Megadeth', 'Savatage', 'Dream Theater', 'Bruce Dickinson', 'Children of Bodom', 'Angra', 'Helloween', 'Nightwish', 'Dr. Sin', 'Matanza', 'Kamelot', 'Stratovarius', 'Rage', 'Iced Earth', 'Nevermore', 'Symphony X', 'Journey', 'Avantasia', 'Testament', 'Death', 'Bon Jovi', 'Skid Row', 'Arch Enemy', 'Kreator', 'Epica', 'Yngwie Malmsteen', 'Blind Guardian', 'Queen', 'Tori Amos', 'The Cardigans', 'Yanni', 'The Mars Volta', 'Bush', 'Nickelback', 'Sixpence None the Richer', 'Armin van Buuren', 'Kasabian', 'Infernal', 'Zoé', 't.A.T.u.', 'Amy Studt', 'Santana', 'At the Drive-In', 'Disturbed', 'Smash Mouth', 'Yelle', 'Emilíana Torrini', 'Foo Fighters', 'Blondie', 'Frank Sinatra', 'Earth, Wind & Fire', 'The Donnas', 'Jem', 'Chris Rea', 'Simple Minds', 'Howard Jones', 'China Crisis', 'The Human League', 'Orchestral Manoeuvres in the Dark', 'Thompson Twins', 'Information Society', 'Pet Shop Boys', 'Kim Wilde', 'Robert Palmer', 'The Fixx', 'Level 42', 'Tiësto', 'Artista desconhecido', 'Ultravox', 'Erasure', 'Berlin', 'The Psychedelic Furs', 'Yazoo', 'OceanLab', 'Groove Coverage', 'Heaven 17', 'Anything Box', 'Markus Schulz', 'Jessie J', 'Kerli', 'Breathe Carolina', 'Anarbor', 'Nicki Minaj', 'The Maine', 'Forever the Sickest Kids', 'Gloria', 'Bruno Mars', 'Boys Like Girls', 'Slipknot', 'Fresno', 'New Found Glory', 'McFly', 'The Kooks', 'Alesha Dixon', 'Pink', 'Edyta Bartosiewicz', 'Camp Rock', 'Myslovitz', 'Ewa Farna', 'Alexz Johnson', 'Recoil', 'Ladytron', 'Hubert Kah', 'Ayria', 'Red Flag', 'The Frozen Autumn', 'Martin L. Gore', 'Kraftwerk', 'IAMX', 'Wham!', 'Billy Idol', 'Ace of Base', 'Siouxsie and the Banshees', 'Curve', 'Suede', 'Franz Ferdinand', 'AFI', 'Joaquín Sabina', 'Kaizers Orchestra', 'Kent', 'Damon Albarn', 'Patrick Wolf', 'Björk', 'The Prodigy', 'Chiodos', 'These New Puritans', 'Iggy Pop', 'Rammstein', \"Jack's Mannequin\", 'Phoenix', 'The Good, the Bad & the Queen', 'Yann Tiersen', 'Rush', 'Frédéric Chopin', 'Ayreon', 'Tarja', 'Incubus', 'Claude Debussy', 'A Perfect Circle', 'Faith No More', 'Wolfgang Amadeus Mozart', 'The Police', 'Johann Sebastian Bach', 'Carl Orff', 'Noir Désir', 'The Asteroids Galaxy Tour', 'Ludwig van Beethoven', 'Tool', 'Joe Satriani', 'The String Quartet', 'Agalloch', 'Camille', 'Die Antwoord', 'Empyrium', 'Stone Sour', '菅野よう子', '平沢進', 'Leonard Cohen', 'Editors', 'The Pillows', 'Hot Chip', 'Orbital', 'Architecture in Helsinki', 'Roy Orbison', 'Pizzicato Five', 'Flight of the Conchords', 'Los Campesinos!', 'The Magnetic Fields', 'Antony and the Johnsons', 'The Blood Brothers', 'Diablo Swing Orchestra', 'Billy Talent', 'Escape The Fate', 'Silverstein', 'The Red Jumpsuit Apparatus', 'You Me At Six', 'The Blackout', 'Alesana', 'Sum 41', 'Dance Gavin Dance', 'Asking Alexandria', 'Secondhand Serenade', 'We Are The Ocean', 'Hadouken!', 'Four Year Strong', 'Mayday Parade', 'Hawthorne Heights', 'Alexisonfire', 'Suicide Silence', 'Senses Fail', 'We The Kings', 'Story of the Year', 'Cute Is What We Aim For', 'Melvins', 'Skinny Puppy', 'Death in June', 'Misfits', 'The Skatalites', 'Saul Williams', 'Lush', 'Nile', 'Mastodon', 'Patsy Cline', 'Naked City', 'Venetian Snares', 'Dean Martin', 'Shpongle', 'Dick Dale', 'La Quiete', 'Sunn O)))', 'The Dresden Dolls', 'CunninLynguists', 'Weezer', 'Them Crooked Vultures', 'Skank', 'The Beach Boys', 'Mika', 'Elvis Presley', 'Panic! At the Disco', 'The Calling', 'The Darkness', \"Guns N' Roses\", 'Front Line Assembly', 'Mayhem', 'Overkill', 'Satyricon', 'Marduk', 'Sodom', 'Tristania', 'Carcass', 'Tactical Sekt', 'Sepultura', 'Immortal', 'Velvet Acid Christ', 'Cannibal Corpse', 'Talamasca', 'mind.in.a.box', 'Absurd Minds', 'Rotersand', 'VNV Nation', 'Seabound', 'Colony 5', 'Apoptygma Berzerk', 'Suicide Commando', 'Blutengel', 'Assemblage 23', 'Above & Beyond', 'Pride and Fall', 'Wynardtage', 'XP8', 'Nuclear Assault', 'HammerFall', 'Sonata Arctica', 'Gamma Ray', 'Queensrÿche', 'Annihilator', 'Sabaton', 'Alestorm', 'Rhapsody of Fire', 'Edguy', 'Tenacious D', 'Death Angel', 'Running Wild', 'Judas Priest', 'Motörhead', 'Exodus', 'W.A.S.P.', 'Black Sabbath', 'Deep Purple', 'Snow Patrol', 'White Lies', 'The Fray', 'Jimmy Eat World', 'Hurts', 'Blue October', 'Starsailor', 'David Gray', 'Imogen Heap', 'The Verve', 'Thirteen Senses', 'Eisley', 'Vampire Weekend', 'Lady Sovereign', 'The Chemical Brothers', 'Freemasons', 'Digitalism', 'Fatboy Slim', 'Justice', 'Armand van Helden', 'MGMT', 'deadmau5', 'Ludacris', 'Lone', 'Simian Mobile Disco', 'The Offspring', 'MSTRKRFT', 'Calvin Harris', 'Pendulum', 'King Crimson', 'Led Zeppelin', 'Genesis', 'Paul McCartney', 'Creedence Clearwater Revival', 'George Harrison', 'Mogwai', 'Roberto Carlos', 'Grateful Dead', 'A Silver Mt. Zion', 'Cat Power', 'David Gilmour', 'The Jimi Hendrix Experience', 'Stevie Wonder', 'Dulce María', 'Christian Chávez', 'Christopher Von Uckermann', 'Tiziano Ferro', 'Daddy Yankee', 'Luis Fonsi', 'Camila', 'David Bisbal', 'Eva Simons', 'Wisin & Yandel', 'Akon', 'Lady Antebellum', 'Pitbull', 'Kristinia DeBarge', 'Girlicious', 'Willow Smith', 'Selena Gomez', 'B.o.B', 'Far East Movement', 'Cherish', 'Miranda Cosgrove', 'Carrie Underwood', 'Gloriana', 'Amy Macdonald', 'ABBA', 'Kansas', 'The Mamas & The Papas', 'Lifehouse', 'Ricky Martin', 'Matt & Kim', 'Miike Snow', 'Santigold', 'Reba McEntire', 'Antonio Vivaldi', 'The Virgins', 'Rooney', 'Nadia Oh', 'Sonic Youth', 'Natalie Imbruglia', 'Omarion', 'Noel Gallagher', 'Black Rebel Motorcycle Club', 'Paolo Nutini', 'The Last Shadow Puppets', 'Ramones', 'The Fratellis', 'The Enemy', 'The Wombats', 'Mumford & Sons', 'Ryan Adams', 'The Hives', 'Morbid Angel', 'Destruction', 'Tankard', 'Toxic Holocaust', 'Anthrax', 'Municipal Waste', 'Venom', 'Napalm Death', 'The Sisters of Mercy', 'Mercyful Fate', 'EMICIDA', 'Bleeding Through', 'The Devil Wears Prada', 'J. Holiday', 'Raimundos', 'Hatebreed', 'As Blood Runs Black', 'For Today', 'CéU', 'Job for a Cowboy', 'Joss Stone', 'Carnifex', 'Beneath the Massacre', 'Dan Balan', 'Paris Hilton', 'Skye Sweetnam', 'Christina Milian', 'The Cheetah Girls', 'Anastacia', 'Shayne Ward', 'Lykke Li', 'Jurassic 5', 'Jay-Z', 'Atmosphere', 'OutKast', 'De La Soul', 'J Dilla', 'Deltron 3030', 'Metric', 'Fleet Foxes', 'Jedi Mind Tricks', 'Jimi Hendrix', 'GZA/Genius', 'The Game', 'Dave Matthews Band', 'Rancid', 'The Baseballs', 'Anti-Flag', 'Tequila Baby', 'Cine', 'Blind Melon', 'Nenhum de Nós', 'Faichecleres', 'Black Veil Brides', 'Avenged Sevenfold', 'Tokio Hotel', 'The Medic Droid', 'BrokeNCYDE', 'Stephen Jerzak', 'The Ready Set', 'Charlie Brown Jr.', 'Aly & AJ', 'Weird Al Yankovic', 'Liz Phair', 'iamamiwhoami', 'Bowling for Soup', 'Victoria Justice', 'Orianthi', 'Dolly Parton', 'Billy Ray Cyrus', 'Sterling Knight', 'Clint Mansell', 'Puscifer', 'The Cult', 'Unheilig', 'Hans Zimmer', 'Black Light Burns', 'Dead Can Dance', 'Philip Glass', 'Brian Eno', 'Therion', 'Eisbrecher', 'Dave Gahan', 'Oomph!', 'Peter Broderick', 'Ani DiFranco', 'Jens Lekman', 'Jon Foreman', 'Elio e le Storie Tese', 'Craig Armstrong', 'Hammock', 'Joanna Newsom', 'Seabear', 'Balmorhea', 'Do Make Say Think', 'Soulwax', 'Soundtrack', 'Ludovico Einaudi', 'Apparat', 'Ólafur Arnalds', 'Ellen Allien', 'Chico Buarque', 'Renato Russo', 'Marcelo Camelo', 'Maria Rita', 'Caetano Veloso', 'Little Joy', 'Carla Bruni', 'Pato Fu', 'Erik Satie', 'Rita Lee', 'Norah Jones', 'Cássia Eller', 'Tiê', 'Adam Green', 'Eddie Vedder', 'Emilie Simon', 'Jonathan Larson', 'Сплин', 'UNKLE', 'Агата Кристи', \"5'nizza\", 'Archive', 'Океан Ельзи', 'Schiller', 'Sting', 'Nautilus Pompilius', 'Guano Apes', 'Indochine', 'Amethystium', 'Nightmares on Wax', 'The Shadows', 'Mötley Crüe', 'T. Rex', 'Syd Barrett', 'The Runaways', 'Ratt', 'Stryper', 'Def Leppard', 'Patti Smith', 'Jerry Cantrell', 'The Black Crowes', 'Sex Pistols', 'Héroes del Silencio', 'L7', 'Donna Summer', 'Zero 7', 'The Jacksons', 'Isaac Hayes', '808 State', 'Chic', 'Nina Simone', 'Diana Ross', 'The Cinematic Orchestra', 'Art of Noise', 'Scott Walker', 'Little Brother', 'Grace Jones', 'Sarah Vaughan', 'Red', 'blessthefall', 'Breaking Benjamin', 'Pillar', 'YUI', 'Thrice', 'Thousand Foot Krutch', 'Jay-Z and Linkin Park', 'Heaven Shall Burn', 'Hollywood Undead', 'Yellowcard', 'Disciple', 'A Skylit Drive', 'Dope', 'Audioslave', 'Hoobastank', 'The Frames', 'Devo', 'XTC', 'The Cars', 'Midnight Oil', 'Dead or Alive', 'Gary Numan', 'Wire', 'Oingo Boingo', 'Sparks', 'Thomas Dolby', 'Eurythmics', 'Yellow Magic Orchestra', 'Visage', 'John Foxx', 'Scritti Politti', 'Yello', 'They Might Be Giants', 'SHINee', 'Shinedown', 'the GazettE', 'Ария', 'The 69 Eyes', '동방신기', 'HIGH and MIGHTY COLOR', 'Rie fu', 'ギルガメッシュ', 'ASIAN KUNG-FU GENERATION', 'Adele', 'Solange', 'Jennifer Hudson', 'Michelle Williams', 'Gnarls Barkley', 'Flying Lotus', 'The Mountain Goats', 'Daedelus', 'Madlib', 'Neutral Milk Hotel', 'Quasimoto', 'Okkervil River', 'Madvillain', 'Raekwon', 'Onra', 'Yeasayer', 'Pavement', 'The Flaming Lips', 'Blu & Exile', 'Lightspeed Champion', 'MF DOOM', 'Deerhunter', 'Four Tet', 'Someone Still Loves You Boris Yeltsin', 'Prefuse 73', 'The Avalanches', 'Laura Marling', 'Rage Against the Machine', 'O.S.T.R.', 'The Black Keys', 'The Raconteurs', 'Cool Kids of Death', 'Cypress Hill', 'Czesław Śpiewa', 'Kult', 'The Knife', 'Pidżama Porno', 'Chris Cornell', 'Metronomy', 'The Subways', 'Paktofonika', 'Fever Ray', 'King Diamond', 'Devin Townsend', 'Liquid Tension Experiment', 'いきものがかり', \"Spock's Beard\", 'Pain of Salvation', 'DragonForce', 'Blue Öyster Cult', 'Lacuna Coil', 'September', 'Stacie Orrico', 'Leighton Meester', 'Victoria Beckham', 'Melanie C', 'Gloria Estefan', 'Emma Bunton', 'Simon Curtis', 'The Residents', 'Frankie Goes to Hollywood', 'Пикник', 'Madness', 'Coil', 'Bee Gees', 'Steve Jablonsky', 'In Extremo', 'Deutsch Amerikanische Freundschaft', 'Cabaret Voltaire', 'Sarah Brightman', 'Andrea Bocelli', 'Josh Groban', 'Emma Shapplin', 'Andrew Lloyd Webber', 'Vanessa-Mae', 'In This Moment', 'Lara Fabian', 'Yiruma', 'Michael Giacchino', 'Gregorian', 'Katherine Jenkins', 'Sissel', 'NX Zero', 'Dev', 'Marjorie Estiano', 'M.I.A.', 'DJ Earworm', 'Perfume', 'Alan', '티아라', '4minute', '소녀시대', 'BoA', 'Brown Eyed Girls', 'Kara', \"D'espairsRay\", 'Capsule', '倖田來未', 'ルルティア', 'U-KISS', '鬼束ちひろ', 'OK Go', 'Alex Turner', 'The Turtles', 'The Rascals', 'Brandon Flowers', 'Dirty Pretty Things', 'Dizzee Rascal', 'Milburn', 'Julian Casablancas', 'Serge Gainsbourg', 'Two Door Cinema Club', 'Beach House', 'DevilDriver', 'AFX', '2H Company', 'Booka Shade', 'Fightstar', 'Meshuggah', 'Jane Air', 'Mujuice', 'Wisp', 'Enduser', 'Gojira', 'edIT', 'Etta James', 'Michael Bublé', '50 Cent', 'Heart', 'Maysa', 'Stick to Your Guns', 'Miss May I', 'Каста', 'Gallows', 'We Butter The Bread With Butter', 'Abandon All Ships', 'Of Mice & Men', 'Chevelle', 'Attack Attack!', 'Austrian Death Machine', 'The Word Alive', 'Aaliyah', 'Bone Thugs-N-Harmony', 'Snoop Dogg', 'Ice Cube', 'Wiz Khalifa', 'Dr. Dre', 'N.W.A', 'Mobb Deep', 'Land of Talk', 'Simon & Garfunkel', 'Dirty Projectors', 'Page France', 'Death from Above 1979', 'Pedro the Lion', 'Feist', 'The Microphones', 'The Apples in Stereo', 'Deerhoof', 'Stereolab', 'Sezen Aksu', 'Ezginin Günlüğü', 'Ahmet Kaya', 'Goran Bregović', 'Şebnem Ferah', 'Teoman', 'Twisted Sister', 'Dio', 'KISS', 'Massacration', 'Aerosmith', 'Van Halen', 'Buckcherry', 'Joan Jett', 'Creed', 'Airbourne', 'Monster Magnet', 'Hardcore Superstar', 'The Hellacopters', 'Karnivool', 'Type O Negative', 'Amorphis', 'Backyard Babies', 'Ghost Brigade', 'Primus', 'Trivium', 'Godsmack', 'Dethklok', 'Amatory', 'Unearth', 'Mónica Naranjo', 'Jessie James', 'Chayanne', 'Yuri', 'Final Fantasy', 'Xiu Xiu', 'TV on the Radio', 'Stars', 'Destroyer', 'Built to Spill', 'The Fiery Furnaces', 'Billie Holiday', 'The New Pornographers', 'Copeland', 'I See Stars', 'Kyo', 'Architects', 'From First to Last', 'Porcelain and the Tramps', 'Coeur de Pirate', 'Aloha From Hell', 'Keith Urban', 'Martina McBride', 'Rascal Flatts', 'Juanes', 'Garth Brooks', 'Billy Joel', 'Howard Shore', 'Brooks & Dunn', 'Josh Turner', 'Tim McGraw', 'Faith Hill', 'Toby Keith', 'Nat King Cole', 'Glenn Miller', 'João Gilberto', 'Reik', 'Boston', 'George Strait', 'Alan Jackson', 'Peter Gabriel', 'Throbbing Gristle', 'Current 93', 'Foetus', 'Fantômas', 'Captain Beefheart & His Magic Band', 'Danny Elfman', 'The Birthday Party', 'Psychic TV', 'Happy Mondays', 'Public Image Ltd.', 'The Specials', 'Mike Patton', 'Mr. Bungle', 'Basshunter', 'Scooter', 'Agnieszka Chylińska', 'Robyn', 'Spice Girls', 'Mando Diao', 'Sunrise Avenue', 'Morrissey', 'Super Furry Animals', 'The Drums', 'Wild Nothing', 'LCD Soundsystem', 'Graham Coxon', 'The Pains of Being Pure at Heart', 'Beady Eye', 'Best Coast', 'My Bloody Valentine', 'Lolene', 'KT Tunstall', 'Paula Fernandes', 'Vanessa Carlton', 'Wanessa', 'Culture Club', 'Hall & Oates', 'The Power Station', 'Toto', 'Kajagoogoo', 'Arcadia', 'Extreme', 'Styx', 'Minus the Bear', 'The Appleseed Cast', 'The Fall of Troy', 'Protest The Hero', 'Between the Buried and Me', 'Biffy Clyro', 'Foals', 'Rogue Wave', 'toe', 'Born of Osiris', 'Late of the Pier', 'The Maccabees', 'Battles', 'SikTh', 'Slash', 'will.i.am', 'We Are Scientists', 'Mystery Jets', 'Delphic', 'Bonobo', 'The Stone Roses', 'The Script', 'City and Colour', 'UB40', 'The Temper Trap', 'The Vaccines', 'Newton Faulkner', 'Razorlight', 'Nouvelle Vague', 'Pierce the Veil', 'Before Their Eyes', 'VersaEmerge', 'We Came As Romans', 'Frank Zappa', 'Barenaked Ladies', 'Randy Newman', 'Ben Folds', 'The Weakerthans', 'Elvis Costello', 'Paul Simon', 'Rufus Wainwright', 'Elvis Costello & The Attractions', 'Stephen Sondheim', 'Sublime', 'Ella Fitzgerald', 'Ben Folds Five', 'Neko Case', 'Calexico', 'Thursday', 'Alexander Rybak', 'Manga', 'The Classic Crime', 'A Rocket to the Moon', 'Bloodbath', 'Reação em Cadeia', 'Bidê ou Balde', 'Anberlin', 'Lordi', 'The Cab', 'This Providence', 'The Flashbulb', 'Amon Tobin', 'µ-Ziq', 'Chris Clark', 'Kettel', 'Clark', 'Plaid', 'Ellen Allien & Apparat', 'Tycho', 'Bola', 'The Future Sound of London', 'Wagon Christ', 'Telefon Tel Aviv', 'Sabrepulse', 'Public Enemy', 'Кровосток', 'Bondage Fairies', 'The Rapture', 'Parov Stelar', 'DJ Shadow', 'Set Your Goals', 'Ляпис Трубецкой', 'Bloodhound Gang', 'Steppenwolf', 'Ногу Свело!', 'Machine Head', 'Korpiklaani', 'Дельфин', 'Deathspell Omega', 'Decapitated', 'Vader', 'Russian Circles', 'Blut aus Nord', 'dredg', 'Vains of Jenna', 'Lenny Kravitz', 'Hanoi Rocks', 'Sixx:A.M.', 'Janis Joplin', 'Whitesnake', 'Joan Jett and the Blackhearts', 'Velvet Revolver', 'CRASHDÏET', 'Alter Bridge', 'Mr. Big', 'f(x)', 'High School Musical', 'MBLAQ', 'Xploding Plastix', 'Dub FX', 'Maxïmo Park', 'Cult of Luna', 'The Bloody Beetroots', 'Sakura', 'The Dead Weather', 'Eagles of Death Metal', 'Paul Kalkbrenner', 'Red Sparowes', 'Flobots', 'Kap Bambino', 'Lynyrd Skynyrd', 'Serj Tankian', 'Scars on Broadway', 'Manowar', 'Automatic Loveletter', 'Dashboard Confessional', 'Gym Class Heroes', 'Stevie Ray Vaughan', 'Trapt', 'Emarosa', 'Underoath', 'Powerman 5000', 'Jim Sturgess', 'Thin Lizzy', 'Cream', 'Donovan', 'Jace Everett', 'Warrant', 'Rod Stewart', 'Stevie Ray Vaughan and Double Trouble', 'Rory Gallagher', 'Joe Bonamassa', 'Van Morrison', 'Buddy Guy', 'Albert Collins', 'The Animals', 'ZZ Top', 'Buddy Holly', 'Royce da 5\\'9\"', 'Redman', 'Lloyd Banks', 'Busta Rhymes', 'Ghostface Killah', 'Lupe Fiasco', 'G-Unit', 'Big Punisher', 'Talib Kweli', 'Iris', 'A Flock of Seagulls', 'Naked Eyes', 'Echo & The Bunnymen', 'JLS', 'Dead by April', 'Hinder', 'Machinae Supremacy', 'Adema', 'Eyes Set to Kill', 'Pain', 'Devin Townsend Project', 'Norther', 'Strapping Young Lad', 'Insomnium', 'Murderdolls', 'Wintersun', 'Hypocrisy', 'Animals as Leaders', 'Dokken', 'Firewind', 'Chamillionaire', 'Kris Allen', 'Dead by Sunrise', 'Christina Perri', 'The Band Perry', 'Detonautas Roque Clube', 'Claudia Leitte', 'Rosa De Saron', 'HEVO84', 'Maria Gadú', 'Shontelle', 'Duke Ellington', 'The Stooges', 'Louis Armstrong', 'T-Bone Walker', 'The Whitest Boy Alive', 'Evergreen Terrace', 'Converge', 'Bombay Bicycle Club', 'Comeback Kid', 'The Scene Aesthetic', 'La Dispute', 'Polar Bear Club', 'Have Heart', 'Zемфира', 'Би-2', 'Submersed', 'Кино', 'Ночные Снайперы', 'Regina Spektor', 'The Puppini Sisters', 'Sin Bandera', 'Luis Miguel', 'Ringo Starr', 'Bonnie Tyler', 'Carpenters', 'Paul McCartney & Wings', 'Jesse & Joy', 'Jay Vaquer', 'Relient K', 'The Click Five', \"Colby O'Donis\", 'Sara Bareilles', 'Framing Hanley', 'Sick Puppies', 'Dope Stars Inc.', 'Black Tide', 'The Exies', 'Matchbox Twenty', 'Seal', 'Guster', 'Sneaker Pimps', 'Fiona Apple', 'Sean Lennon', 'Suzanne Vega', 'We Are the Fallen', 'Megh Stock', 'BarlowGirl', 'Lenka', 'Courtney Love', 'DJ Krush', 'Sébastien Tellier', 'Flunk', 'James Morrison', 'Ivete Sangalo', 'Kelly Key', 'Anniela', 'Ashbury Heights', \"L'Âme Immortelle\", 'Vive la Fête', 'Kudai', 'Diorama', 'Belanova', 'Alice in Videoland', 'Theatre of Tragedy', 'Dangerous Muse', 'Cansei de Ser Sexy', 'Kate Bush', 'Charlotte Gainsbourg', 'Biquini Cavadão', 'Mallu Magalhães', 'The Bird and The Bee', 'Michael Andrews', '近藤浩治', 'Wu-Tang Clan', 'The Moody Blues', 'Hey', 'Coma', 'Otep', 'Drowning Pool', 'Deathstars', 'Family Force 5', 'Kashmir', 'Athlete', 'The Shins', 'Blonde Redhead', 'Marillion', 'The Ark', 'Fabrizio De André', 'Steven Wilson', 'The Jesus and Mary Chain', 'Cocteau Twins', \"The B-52's\", 'My Life with the Thrill Kill Kult', 'Annie', 'Front 242', 'Cranes', 'The Creatures', 'Black Kids', 'Galaxie 500', 'The Fall', 'Robots in Disguise', 'Phil Collins', 'Barbra Streisand', 'Eros Ramazzotti', 'Supertramp', 'Édith Piaf', 'The Jackson 5', 'Mýa', 'Sean Paul', 'Drake', 'Trey Songz', 'Diana Vickers', 'Lee Ryan', 'Brooke White', 'Pete Yorn & Scarlett Johansson', '安室奈美恵', 'HorrorPops', 'Tata Young', 'Sandy e Junior', 'The Distillers', \"Cap'n Jazz\", 'Motion City Soundtrack', 'Black Flag', 'Notorious B.I.G.', 'Fugazi', 'Cinema Bizarre', 'New Years Day', 'Hockey', 'Peter Doherty', \"Plain White T's\", 'Ryan Cabrera', 'Jota Quest', 'Banda Eva', 'Jorge & Mateus', 'Os Paralamas do Sucesso', 'Chimarruts', 'Seu Jorge', 'Zeca Baleiro', 'Exaltasamba', 'Sandy Leah', 'Heidi Montag', '+44', 'Plastiscines', 'Jet', 'Sky Ferreira', 'Antimatter', 'M83', 'Underworld', 'Sentenced', 'Ulver', 'After Forever', 'Goo Goo Dolls', 'A Static Lullaby', 'The Cramps', 'Alien Sex Fiend', 'Christian Death', 'The Damned', 'Fields of the Nephilim', 'Ween', 'Peter Murphy', 'Crass', 'Butthole Surfers', 'Dead Kennedys', 'Danzig', 'Love and Rockets', 'Nekromantix', 'The Adicts', 'The Byrds', 'Five for Fighting', 'Sheryl Crow', 'Phantom Planet', '[unknown]', 'Counting Crows', 'Sarah McLachlan', 'Caesars', 'The Magic Numbers', 'Supergrass', 'Rainbow', 'Quiet Riot', 'Litfiba', 'David Lee Roth', 'Danger Danger', 'Wolfmother', 'Saxon', 'Yes', 'America', 'Corinne Bailey Rae', 'Michelle Branch', 'Utada', 'Agnes', 'Jordan Pruitt', 'Paula DeAnda', 'Edyta Górniak', 'Mylène Farmer', 'Róisín Murphy', 'Tarkan', 'John Zorn', 'Bathory', 'Biosphere', 'Bohren & der Club of Gore', 'Unter Null', 'Aqua', 'Jack Off Jill', 'Lords of Acid', 'Saliva', 'Brian Littrell', 'Danny', 'Blake Lewis', 'New Kids on the Block', 'Luke Bryan', 'Jason Aldean', 'Kenny Chesney', 'Sara Evans', 'Brand New', 'Ray LaMontagne', 'Josh Ritter', 'Coheed and Cambria', 'Acid Drinkers', 'Lao Che', 'Ektomorf', 'Dezerter', 'Finntroll', 'The Hold Steady', 'Matisyahu', 'Scarlett Johansson', 'Girl Talk', 'Alizée', 'Huey Lewis & The News', 'Richard Ashcroft', 'Angus & Julia Stone', 'Why?', 'Caribou', 'Les Savy Fav', 'Owen Pallett', 'Panda Bear', 'Grizzly Bear', 'Liars', 'Atlas Sound', 'Tim Hecker', 'Portugal. The Man', 'Broken Bells', 'Ratatat', 'The Lonely Island', 'Cursive', 'Wale', 'Chimaira', 'Soulfly', 'Norma Jean', 'Aborted', 'Madball', 'Friendly Fires', '311', 'Spinnerette', 'Against Me!', 'Pnau', 'Hole', 'Cazuza', 'Natiruts', 'Bikini Kill', 'Chico Science & Nação Zumbi', 'Ponto de Equilíbrio', 'Vanguart', 'Hanson', 'Gavin DeGraw', 'Amos Lee', 'Augustana', 'Third Eye Blind', 'Mat Kearney', 'Default', 'The Corrs', 'The Horrors', 'Soft Cell', 'Shiny Toy Guns', 'Museum', 'Uriah Heep', 'Funkadelic', 'Steely Dan', 'Sly & The Family Stone', 'Fates Warning', 'D.R.I.', 'Violent Femmes', 'Cynic', 'Bad Brains', 'Marilyn Monroe', 'Blood Red Shoes', 'Septic Flesh', 'Neurosis', 'Rotting Christ', 'Electric Wizard', 'The Qemists', 'Maybeshewill', 'Dolphin', 'Morten Harket', 'Lumen', 'Daughtry', 'Koop', 'Blank & Jones', 'Kaskade', 'Alina Orlova', 'Daniel Powter', 'Chris Daughtry', 'Pink Martini', 'Slowdive', 'Angelo Badalamenti', 'Robert Plant', 'Chris Isaak', 'Mazzy Star', 'Soda Stereo', 'This Mortal Coil', 'Peggy Lee', 'The Gathering', 'CocoRosie', 'Jorge Drexler', 'Apulanta', 'Bryan Ferry', 'Asia', 'Kutless', '12 Stones', '10cc', 'Riverside', 'Feeder', 'Puddle of Mudd', 'Alcazar', 'Modern Talking', \"Gigi D'Agostino\", 'Mesh', 'Bertine Zetlitz', 'Everything but the Girl', 'Shocking Blue', 'Blockhead', 'Veil of Maya', 'Within The Ruins', 'After the Burial', 'The Faceless', 'Midnight Juggernauts', 'Benny Benassi', 'The Presets', 'Mr. Oizo', 'Chromeo', 'Boys Noize', 'Freddie Mercury', 'Ferry Corsten', 'Gipsy Kings', 'Grafton Primary', 'Morphine', 'The Brian Jonestown Massacre', 'Spiritualized', 'The Dandy Warhols', 'Silversun Pickups', 'Wilco', 'Raul Seixas', 'Cold War Kids', 'Dinosaur Jr.', 'The Chariot', 'He Is Legend', 'From Autumn to Ashes', 'Scary Kids Scaring Kids', 'Emancipator', 'Lamb', 'The Vines', 'The Postal Service', 'Mike Oldfield', 'UFO', 'Status Quo', 'Vangelis', 'The Jam', 'Foreigner', 'Xandria', \"Leaves' Eyes\", 'Sirenia', 'Agua de Annique', 'Télépopmusik', 'Die Ärzte', 'Die Toten Hosen', 'Lacrimas Profundere', 'Gramofocas', 'Poison', 'Confide', 'Woe, Is Me', 'Demon Hunter', 'Disarmonia Mundi', 'Stigmata', 'Switchfoot', 'Nightrage', 'Staind', 'Europe', 'Nero', 'The Bouncing Souls', 'Alkaline Trio', 'Hot Water Music', 'Descendents', 'The Gaslight Anthem', 'The Suicide Machines', 'The Thermals', 'The Get Up Kids', 'Streetlight Manifesto', 'H2O', 'Reel Big Fish', 'Pennywise', 'The Spill Canvas', 'Мои Ракеты Вверх', '7раса', 'Everything Is Made in China', 'Адаптация Пчёл', 'The American Dollar', 'Caspian', 'QUEST PISTOLs', 'Tesla Boy', 'The Yardbirds', 'Paloma Faith', 'Marion Raven', 'Kill Hannah', 'Ronan Keating', 'Julieta Venegas', 'Taking Back Sunday', 'Every Avenue', 'Burzum', 'Darkthrone', 'Celtic Frost', 'Doro', 'Dissection', 'Drake Bell', 'Hayden Panettiere', 'Corbin Bleu', 'Линда', 'Client', 'Akcent', 'Ian Brown', 'Tricky', 'Melotron', 'At Vance', 'Dream Evil', 'Damian Marley', 'Walls of Jericho', 'Barão Vermelho', 'Rouge', 'Toadies', 'Clutch', 'Mudhoney', 'Jars of Clay', 'The Tea Party', 'Ours', 'Tom Petty and the Heartbreakers', 'MxPx', 'Sohodolls', 'The Raveonettes', 'Hellogoodbye', 'Does It Offend You, Yeah?', 'Foxboro Hot Tubs', 'Smile Empty Soul', 'Our Lady Peace', 'The Ataris', 'The Bravery', 'Marianas Trench', '梶浦由記', 'Dishwalla', 'Ryan Adams & The Cardinals', 'Doves', 'Beth Orton', 'Tame Impala', 'Black Drawing Chalks', 'Turbonegro', 'Ace Frehley', 'Forgotten Boys', 'Cinderella', 'Armandinho', 'Luan Santana', 'Jon McLaughlin', 'Marié Digby', 'Jennifer Love Hewitt', 'Joe McElderry', 'Dusty Springfield', 'Слот', 'Terror', 'Hank Williams', \"Bonnie 'Prince' Billy\", 'The Band', 'Lou Reed', 'Willie Nelson', 'In Fear and Faith', 'Wonder Girls', 'Busted', 'Brooke Hogan', 'Edward Maya', 'Jason Derülo', 'Tinie Tempah', 'Doda', 'Amerie', 'Chylińska', 'Rebecca Black', 'www.djrobsonmichel.com', 'Method Man', 'RZA', 'Astrix', 'Moonsorrow', 'Equilibrium', 'Brainstorm', 'Alcest', 'Orphaned Land', 'Jamie Cullum', 'Bow Wow', 'Ingrid Michaelson', 'Cat Stevens', 'Franco Battiato', 'Necrophagist', 'Camel', 'Blaze', 'My Dying Bride', 'The-Dream', 'Ladyhawke', 'All Saints', 'Sam Sparro', 'Gabriella Cilmi', 'Tiago Iorc', 'Roberta Sá', 'John Legend', 'Teairra Mari', 'Vanessa da Mata', 'Tiga', 'Vitalic', 'Brazilian Girls', 'Fischerspooner', 'Trentemøller', 'Ash', 'Fireflight', 'Jeremy Camp', 'Quietdrive', 'Acceptance', 'Aura Dione', 'Krystal Meyers', 'Adept', 'Aesop Rock', 'Emerson, Lake & Palmer', 'Atheist', 'Gentle Giant', 'Cachorro Grande', 'Planet Hemp', 'Ida Maria', 'New York Dolls', 'The Pipettes', 'Cody Simpson', 'Natalia Kills', 'La Oreja de Van Gogh', 'Nando Reis', 'Fernanda Takai', 'Lagwagon', 'NOFX', 'No Use for a Name', 'Cueio Limão', 'Forfun', 'Display', 'Less Than Jake', 'Carbona', 'The Starting Line', 'Strike', 'Red Snapper', 'ISAN', 'Project Pitchfork', 'Deine Lakaien', 'Leæther Strip', 'In Strict Confidence', 'Selena Gomez & Demi Lovato', 'Sandra', 'TLC', 'Гражданская Оборона', 'П.Т.В.П.', 'E Nomine', 'Klaus Badelt', 'Nicholas Hooper', 'James Horner', '久石譲', 'Alexandre Desplat', 'Patrick Doyle', 'Eric Serra', 'Dr. Acula', 'Misery Signals', 'Drudkh', 'Kalmah', 'Olivia', 'Chris Spheeris', 'Team Sleep', 'Destroy Rebuild Until God Shows', 'Take That', 'One Night Only', 'Queen + Paul Rodgers', 'Le Tigre', 'The Pigeon Detectives', 'Britt Nicole', 'Raven-Symoné', 'Eldo', 'Basement Jaxx', 'The Streets', 'Aiden', 'I Set My Friends On Fire', 'Chase & Status', 'Paul Oakenfold', 'Juno Reactor', 'Rob Dougan', 'X JAPAN', 'Emilie Autumn', 'アンティック-珈琲店-', '大塚愛', 'Train', 'Shadows Fall', 'Cavalera Conspiracy', 'Marcelo D2', 'Chelsea Grin', 'Panda', 'Sleigh Bells', 'Uffie', 'Janelle Monáe', 'Auf der Maur', 'Miami Horror', 'Accept', 'White Lion', 'Bob Seger', 'Grand Funk Railroad', 'Roger Waters', 'Lovage', '8mm', 'Bent', 'InMe', 'Refused', 'Skunk Anansie', 'Alien Ant Farm', 'Fuel', 'O Rappa', 'Andrés Calamaro', 'Enrique Bunbury', 'Gustavo Cerati', 'Fito Páez', 'Calle 13', 'Alejandro Sanz', 'Falco', 'Jan Hammer', 'Nancy Sinatra', 'Adam Ant', 'Adam and the Ants', 'Kellie Pickler', 'Miranda Lambert', 'Van der Graaf Generator', 'Swans', 'Dropkick Murphys', 'Zebrahead', 'Amber Pacific', 'Ott', 'Younger Brother', 'Buju Banton', 'Vibrasphere', 'Bluetech', 'Diamond Head', 'Eddie Cochran', 'The Go! Team', 'Camera Obscura', 'Os Mutantes', 'Nico', 'Rasputina', '...And You Will Know Us by the Trail of Dead', 'Diante do Trono', 'André Valadão', 'Jack Peñate', 'Good Shoes', 'The Zombies', 'The Hush Sound', 'Hot Hot Heat', 'Lenine', 'Andy McKee', 'Ben Harper', 'Chicago', 'Pouca Vogal', 'Delain', 'Ryan Star', 'Blue Foundation', 'Frou Frou', 'Dżem', 'Kasia Kowalska', 'Natural Dread Killaz', 'The Orb', 'Alexis Jordan', 'Aggro Santos', 'Passion Pit', 'Yo La Tengo', 'Clazziquai Project', 'Maria Cecília & Rodolfo', 'Agnostic Front', '植松伸夫', 'Elisa', 'Dead Fish', 'A Wilhelm Scream', 'Propagandhi', 'Strike Anywhere', 'Mukeka Di Rato', 'Zac Brown Band', 'Robert Johnson', 'Volbeat', 'The Agonist', 'Zombie Girl', 'Mr Hudson', 'Heaven & Hell', 'Candlemass', 'Elis Regina', 'Robert Pattinson', 'Restart', 'Eliza Doolittle', 'LeAnn Rimes', 'Anouk', 'Mamonas Assassinas', 'Buzzcocks', 'Diana Krall', 'Lauryn Hill', 'Aimee Mann', 'John Murphy', 'David Sylvian', 'Mark Ronson & The Business Intl', 'Winger', 'Jefferson Airplane', 'Vavamuffin', 'EastWest Rockers', \"Ariel Pink's Haunted Graffiti\", 'Oh No', 'Elbow', 'I Monster', 'The Chameleons', 'My Brightest Diamond', 'Peter Bjorn and John', 'The Sounds', 'Bang Gang', 'The Organ', 'Bonde do Rolê', 'LMFAO', 'Fefe Dobson', 'Cash Cash', 'Kid Sister', 'The Summer Set', 'Circa Survive', 'Drop Dead, Gorgeous', 'Mute Math', 'Neon Trees', 'Semi Precious Weapons', 'Nelly', 'Trading Yesterday', 'Innerpartysystem', 'Greeley Estates', 'HEALTH', 'Nujabes', 'Godspeed You! Black Emperor', 'E.S. Posthumus', 'Goose', 'Nena', '坂本龍一', 'CPM 22', 'Scracho', 'Roupa Nova', 'Filter', 'Beeshop', 'Antônio Carlos Jobim', 'Sebadoh', 'Tangerine Dream', 'Stars of the Lid', 'Eluvium', 'Loscil', 'Arvo Pärt', 'Ten Years After', 'Grandaddy', 'Jonny Greenwood', 'Bibio', 'Armor for Sleep', 'Box Car Racer', 'The Veils', 'Delays', 'The Clientele', 'Girls', 'The Radio Dept.', 'Guillemots', 'The Automatic', 'N*E*R*D', 'Frightened Rabbit', 'The Perishers', 'BWO', 'Negative', 'Мумий Тролль', 'Sugarcult', 'Theory of a Deadman', 'Globus', 'Tyler Bates', 'Rob Zombie', 'Summoning', 'ДДТ', 'Mägo de Oz', 'Tech N9ne', 'Kataklysm', 'Jon Bon Jovi', 'Straylight Run', 'Saves the Day', 'Pinback', 'Sondre Lerche', 'Something Corporate', 'Nick Lachey', 'Soulja Boy', 'Slade', 'The Blues Brothers', 'Peaches', 'Missy Elliott', 'Robin Thicke', 'Bear McCreary', 'The Living End', 'Harry Gregson-Williams', 'Black Moth Super Rainbow', 'Grouper', 'Asobi Seksu', 'Kate Ryan', 'Animal ДжаZ', 'Blood on the Dance Floor', 'Everclear', 'The Academy Is...', 'Anna Nalick', 'I Am Ghost', 'Manchester Orchestra', 'Djavan', 'Estopa', 'Miranda!', 'Natalia Lafourcade', '2ois', 'Juliette and The Licks', 'Hans Zimmer & James Newton Howard', 'Jeff Beck', 'Angelspit', 'Millionaires', 'I:Scintilla', 'Electrik Red', 'Diddy', 'Oceansize', 'RJD2', 'Ulrich Schnauss', 'Gus Gus', 'The Secret Handshake', 'The Rocket Summer', 'Mae', 'My Favorite Highway', 'There For Tomorrow', 'D12', 'Obie Trice', 'Xzibit', 'DMX', 'Fabolous', 'The John Butler Trio', 'The Ditty Bops', 'The Unicorns', 'Livvi Franc', 'Kevin Rudolf', 'Aline Barros', 'Daniela Mercury', 'Air Supply', 'John Frusciante', 'Albert Hammond, Jr.', 'James', 'Mark Lanegan', 'Big Country', 'Savoy', 'Magne F', 'Propaganda', 'Axel Rudi Pell', 'Amiina', 'This Will Destroy You', 'Conjure One', 'Helios', 'The Dear Hunter', 'Cartel', 'Say Anything', 'Hateen', 'Guided by Voices', 'Pelican', 'Ted Leo and The Pharmacists', 'White Rose Movement', 'Soman', 'AZ', 'Big L', 'Owen', 'The Books', 'Hercules and Love Affair', 'Glasvegas', 'Jay-Jay Johanson', 'Jim Morrison', 'Steve Vai', 'Robert Cray', 'Gary Moore', 'Grup Yorum', 'Пилот', 'Akurat', 'Pentagram', 'The Alan Parsons Project', 'B.B. King', 'The Teenagers', 'Gang of Four', 'Zeromancer', 'Moderat', 'Tomahawk', 'Michael Nyman', 'Haggard', 'Johannes Brahms', 'Chet Baker', 'Yael Naim', 'My Morning Jacket', 'John Barry', 'Thomas Newman', 'Loreena McKennitt', '下村陽子', 'Cage the Elephant', 'Carolina Liar', 'Hard-Fi', 'The View', 'Nemesea', 'Aqualung', 'Flogging Molly', 'Vega', 'Bill Hicks', 'Get Cape. Wear Cape. Fly', 'Empire of the Sun', 'Plan B', 'Sugar Kane', 'Goldfinger', 'Suicidal Tendencies', 'Jay Sean', 'Fad Gadget', 'Blancmange', 'Brigitte Bardot', 'Madeleine Peyroux', 'Shellac', 'Efterklang', 'Vanilla Ninja', 'Meat Puppets', 'Corrosion of Conformity', 'Marek Grechuta', 'Ana Johnsson', 'Lillix', 'Danni Carlos', 'LFO', 'Luke Vibert', 'Karen O and the Kids', 'Paul Weller', 'Café Tacuba', 'Jarabe de Palo', 'Mina', 'Mudvayne', 'Clueso', 'Beatsteaks', 'I Blame Coco', 'The Futureheads', 'Toro y Moi', \"Disney's Friends For Change\", 'Gaiola Das Popozudas', 'Between the Trees', 'The Almost', 'Department of Eagles', 'Jamie T', 'Casting Crowns', 'Bushido', 'Scouting for Girls', 'Clare Maguire', 'Elsiane', 'Sleeping With Sirens', 'Abril', 'Esteban', 'Fake Number', 'Alejandro Fernández', 'La Quinta Estación', 'Charice', 'Mike Posner', 'Xavier Naidoo', 'Zeigeist', 'Men at Work', 'The Monkees', 'Сергей Лазарев', 'Jónsi & Alex', 'Live', 'Idlewild', 'Plumb', 'The Dø', 'Estelle', 'Ryan Leslie', 'Lloyd', 'The Allman Brothers Band', 'Toots and the Maytals', 'Albert King', 'Little Walter', 'Danger', 'Justin Nozuka', 'Slim Thug', 'T-Pain', 'Datarock', 'Astor Piazzolla', 'Oi Va Voi', 'FM Static', 'SOiL', 'Emil Bulls', 'William Fitzsimmons', 'Lydia', 'John Mellencamp', 'John Fogerty', 'Taproot', 'Sean Kingston', 'Maná', 'Ricardo Arjona', 'she', 'Lake of Tears', 'Meat Loaf', 'Metin & Kemal Kahraman', 'Bülent Ortaçgil', 'mewithoutYou', 'Sunny Day Real Estate', 'Every Time I Die', 'American Football', 'Nada Surf', 'Joshua Radin', 'Modeselektor', 'Pat Benatar', 'Miss Kittin', 'Neon Neon', 'Blackbird Blackbird', 'Frankmusik', 'Rachael Yamagata', 'Joni Mitchell', 'Nino Rota', 'Grammatics', 'Kimya Dawson', 'Mansun', 'The Cooper Temple Clause', 'Ride', 'The Naked and Famous', 'Van She', 'Au Revoir Simone', 'Neon Indian', 'Chapterhouse', 'No Age', 'Twin Shadow', 'Ludov', 'Moptop', 'Rock Rocket', 'Glen Hansard & Markéta Irglová', 'Måns Zelmerlöw', 'Oficina G3', 'Fernandinho', 'Nazareth', 'Kitaro', 'Luther Allison', 'The Coral', 'Charlie Parker', 'Secret Garden', 'Red House Painters', 'Madina Lake', 'Electric Six', 'How to Destroy Angels', 'Minor Threat', 'Javier Navarrete', 'Boyz II Men', 'Andy Taylor', 'Bethany Joy Lenz', 'Switchblade Symphony', 'Mark Ronson', 'El Canto del Loco', 'Hillsong United', 'Gram', 'Lasgo', 'Kylesa', 'Jamie Woon', 'The The', 'Tesla', 'Screaming Trees', 'Bad Company', 'Young Money', 'James Taylor', 'Lightning Bolt', 'Poe', 'Voxtrot', 'Smog', '椎名林檎', 'The Divine Comedy', 'Kula Shaker', 'Jesus on Extasy', 'Travie McCoy', 'Buckethead', 'Wild Beasts', 'Gui Boratto', 'The Kilimanjaro Darkjazz Ensemble', 'Mother Love Bone', 'Firehouse', 'Teenage Fanclub', 'Big Star', 'Elegant Machinery', 'R. Kelly', 'Ted Nugent', 'The Twilight Sad', 'Finger Eleven', 'The Sound', 'Sleater-Kinney', 'Sevendust', 'The Friday Night Boys', 'Air Traffic', 'Henry Mancini', 'Curtis Mayfield', 'Crosby, Stills, Nash & Young', 'Novos Baianos', 'Otto Dix', 'Orchid', 'Кирпичи', 'Dntel', 'Big D and the Kids Table', 'Mario', 'Das Racist', \"Carissa's Wierd\", 'Wavves', 'Lesley Roy', 'Easy Star All-Stars', 'Voivod', 'The Wreckers', 'Juan Luis Guerra', 'Lali Puna', 'LoveHateHero', 'The Replacements', 'Orgy', 'Andrew W.K.', 'Chris Crocker', 'Françoise Hardy', 'Circle Jerks', 'Marques Houston', 'Moenia', 'Monolake', 'Uh Huh Her', 'Dabrye', 'The Black Dog', 'Richard Hawley', 'Bernard Butler', 'Jonny Craig', 'Vivendo do Ócio', 'Herbie Hancock', 'The Format', 'The Dodos', 'I Am Kloot', 'Envy', 'Stan Getz', 'The Submarines', 'The Cat Empire', 'Falling Up', 'The Beautiful South', 'Johnny Winter', 'Low', 'Broadcast', 'Dan Black', 'Azure Ray', 'Tópaz', 'The Long Blondes', 'Ximena Sariñana', 'Harry Nilsson', 'Quantic', 'Band of Skulls', 'Don Omar', 'Tego Calderon', 'Tindersticks', 'SoKo', '(hed) Planet Earth'])\n"
     ]
    }
   ],
   "execution_count": 15
  },
  {
   "cell_type": "code",
   "id": "d130ff97-d918-4ada-9911-c00b9584c391",
   "metadata": {
    "ExecuteTime": {
     "end_time": "2025-10-04T04:24:47.824245Z",
     "start_time": "2025-10-04T04:24:47.629696Z"
    }
   },
   "source": [
    "\n",
    "import copy\n",
    "\n",
    "item_1stneighbor_text_dic = {}\n",
    "triples = [] \n",
    "\n",
    "single_cols = []\n",
    "multiple_cols = ['tagID_text']\n",
    "\n",
    "for index, row in artists.iterrows():\n",
    "    triples0 = [] \n",
    "    item_id = row['item_id']\n",
    "    item_name = row['name']\n",
    "\n",
    "    for col in multiple_cols:\n",
    "        tags = row[col]\n",
    "        # triples0.append((item_name, col, row[col]))\n",
    "        for entity in row[col]:\n",
    "            triples.append((item_name, col, entity))  \n",
    "            triples.append((entity, col+\"_reverse\", item_name)) \n",
    "\n",
    "    # if len(single_cols) > 0:\n",
    "    #     for col in single_cols:\n",
    "    #         if col not in ['city', 'state','address', 'stars']:\n",
    "    #             relation = col.split(\".\")[-1]\n",
    "    #         else:\n",
    "    #             relation = col\n",
    "                \n",
    "    #         value = row[col]\n",
    "    #         if (isinstance(value, (float, int)) and not np.isnan(value)) or pd.notna(value): \n",
    "    #             triples0.append((business_name, relation, row[col]))\n",
    "    #             if relation in [\"city\", \"categories\", ]:\n",
    "    #                 triples.append((business_id, relation, row[col]))\n",
    "    #                 triples.append((row[col], relation+\"_\", business_id))\n",
    "    #              # 人工组合column\n",
    "    #             if relation in ['stars', \"GoodForKids\", \"RestaurantsDelivery\", \"RestaurantsTakeOut\",\n",
    "    #                                     \"Alcohol\"]:\n",
    "                  \n",
    "    #                 relation = \"city_\"+relation\n",
    "    #                 triples.append((business_id, relation, row['city']+\"_\"+str(row[col])))\n",
    "    #                 triples.append((row['city']+\"_\"+str(row[col]), relation+\"_\", business_id))\n",
    "    \n",
    "        \n",
    "    item_1stneighbor_text_dic[item_id] = f'The artist {item_name} has been tagged by users with the following labels: {tags}'\n",
    "    \n",
    "\n",
    "data = pd.DataFrame(triples, columns=['head', 'relation', 'tail'])\n",
    "data = data.dropna()\n",
    "relations=data['relation'].unique()\n",
    "print(relations)\n"
   ],
   "outputs": [
    {
     "name": "stdout",
     "output_type": "stream",
     "text": [
      "['tagID_text' 'tagID_text_reverse']\n",
      "2\n",
      "              head            relation             tail\n",
      "0  Diary of Dreams          tagID_text             dark\n",
      "1             dark  tagID_text_reverse  Diary of Dreams\n",
      "2  Diary of Dreams          tagID_text      gothic rock\n",
      "3      gothic rock  tagID_text_reverse  Diary of Dreams\n",
      "4  Diary of Dreams          tagID_text          ambient\n"
     ]
    }
   ],
   "execution_count": 6
  },
  {
   "cell_type": "code",
   "execution_count": 10,
   "id": "efcda713-c7ab-4657-b450-f9fb1e429697",
   "metadata": {},
   "outputs": [
    {
     "name": "stdout",
     "output_type": "stream",
     "text": [
      "The artist Duran Duran has been tagged by users with the following labels: ['romantic', 'u2', 'eighties', 'johnny', 'dd', 'chillout', 'ambient', 'new wave', 'synth pop', 'electronic', \"80's\", 'erotic', 'favourite songs', '1995', 'pop', '80s', '1981', 'atmospheric', 'ethereal', 'experimental', 'danny', 'dance', 'synth-pop', 'melancholic', 'duran my fave from wedding album', 'love duran jt', 'acoustic rock', 'dub', 'rock', 'synthpop', 'covers', 'rain', 'alternative rock', 'alternative', 'indie', 'indie rock', 'house', 'pop rock', 'nelly furtado', 'slowies', 'edit', 'uk', 'old school', 'song with samples', 'seen live', 'hit', 'guilty pleasure', 'singer-songwriter', 'best', 'numbers', 'faves', 'scifi', 'perfect', 'all time faves', 'blue songs', 'grunge', 'madonna', 'bond', 'soundtrack', 'acoustic', 'electronica', 'instrumental', 'classic rock', '2008', 'british', 'anthemic', 'stylish', 'club', 'hot', 'guilty pleasures', 'majestic', 'james bond', '80s stuff', 'legend', '00s', 'beautiful', 'love at first listen', 'epic', 'love it', 'ballad', 'tender', 'leftovergrooves', 'sexy', 'collectables', 'single', 'weirdness', 'songs to feel happy to', 'seen in concert', 'new romantics', 'retro', 'i want back to the 80s', 'duran', 'post-punk', 'electro-pop', 'awesome', 'hypnotic', 'b-side', 'indie pop', 'political', 'mellow', 'the best', 'nineties', \"1990's\", 'nostalgia', 'amazing vocal', 'energetic', 'my favorites', 'cover', '1008', 'fucking amazing', '90s', 'brit pop', 'favorites', 'fav songs', 'new wave songs', 'fav artists', '1982 songs', 'bad day', 'life on mars', 'british artists', '1981 songs', 'new wave artists', 'titans', '1983 songs', 'new romantic songs', 'britpop', 'bobbi', 'roy', 'clint', 'simon', 'babs', 'new romantic', 'wally', 'runaways', 'rachel', 'government', 'drugs', 'caleb', 'tula', 'tony', 'jason', 'kon', 'amelia', 'b-sides', 'tara', 'bad days', 'unsure', 'reasons to love 80s', \"90's\", 'chilled', 'demo', 'dramatic', 'tag your songs properly', 'artists', 'remix', 'x-men', '1990s', 'roxy', 'bad girls', 'namora', 'teddy', 'new wave and eighties', 'the beowulfs choice', 'scholes song', 'favourites', 'my pleasuredome', 'zadrotstvo', 'my fav fun', 'touching song', 'ogonj', 'absolute disco', 'mix', 'loved tracks', 'nejlepsi', 'po-andoneovski', 'my choice', 'duran duran', 'sex', 'best songs ever', 'religion', 'favorite tracks', 'live', '80s pop', 'love', 'dance-pop']\n"
     ]
    }
   ],
   "source": [
    "# print(item_1stneighbor_text_dic[0])"
   ]
  },
  {
   "cell_type": "code",
   "execution_count": 11,
   "id": "66b843a0-d151-4a9d-827c-4dcad03040ea",
   "metadata": {},
   "outputs": [
    {
     "name": "stdout",
     "output_type": "stream",
     "text": [
      "100\n",
      "200\n",
      "300\n",
      "400\n",
      "500\n",
      "600\n",
      "700\n",
      "800\n",
      "900\n",
      "1000\n",
      "1100\n",
      "1200\n",
      "1300\n",
      "1400\n",
      "1500\n",
      "1600\n",
      "1700\n",
      "1800\n",
      "1900\n",
      "2000\n",
      "2100\n",
      "2200\n",
      "2300\n",
      "2400\n",
      "2500\n",
      "2600\n",
      "2700\n",
      "2800\n"
     ]
    }
   ],
   "source": [
    "\n",
    "import dgl\n",
    "import random\n",
    "import torch\n",
    "from collections import Counter\n",
    "from sklearn.preprocessing import LabelEncoder\n",
    "\n",
    "\n",
    "def create_kg_from_data(data):\n",
    "  \n",
    "    node_encoder = LabelEncoder()\n",
    "    relation_encoder = LabelEncoder()\n",
    "    \n",
    "    nodes = pd.concat([data['head'], data['tail']]).unique()\n",
    "    node_encoder.fit(nodes)\n",
    "    head = node_encoder.transform(data['head'])\n",
    "    tail = node_encoder.transform(data['tail'])\n",
    "\n",
    "    relations = data['relation'].unique()\n",
    "    relation_encoder.fit(relations)\n",
    "    relation = relation_encoder.transform(data['relation'])\n",
    "\n",
    "    g = dgl.heterograph({\n",
    "        ('node', 'relation', 'node'): (head, tail)\n",
    "    })\n",
    "    \n",
    "    g.edges['relation'].data['etype'] = torch.tensor(list(relation))  \n",
    "    return g, node_encoder, relation_encoder\n",
    "\n",
    "\n",
    "\n",
    "def node2vec_walk(g, start_node, K):\n",
    "    walk_2nd_neighbor_dic = {}\n",
    "    walk = [start_node]\n",
    "    visited_neighbors = set()\n",
    "    visited_second_neighbors = set()\n",
    "    \n",
    "    one_hop_neighbors = g.successors(start_node).tolist()\n",
    "    \n",
    "    for neighbor in one_hop_neighbors:\n",
    "        walk_2nd_neighbor_dic[neighbor] = []\n",
    "        walk.append(neighbor)\n",
    "        visited_neighbors.add(neighbor)\n",
    "        \n",
    "        second_order_neighbors = g.successors(neighbor).tolist()\n",
    "        second_order_neighbors = [n for n in second_order_neighbors if n != start_node]\n",
    "        # print(\"debug second_order_neighbors\", second_order_neighbors)\n",
    "        if len(second_order_neighbors) > K:\n",
    "            sampled_neighbors = np.random.choice(second_order_neighbors, K, replace=False)\n",
    "        else:\n",
    "            sampled_neighbors = second_order_neighbors\n",
    "        \n",
    "        for second_neighbor in sampled_neighbors:\n",
    "            walk.append(second_neighbor)\n",
    "            visited_second_neighbors.add(second_neighbor)\n",
    "            walk_2nd_neighbor_dic[neighbor].append(second_neighbor)\n",
    "    \n",
    "    return walk_2nd_neighbor_dic##二阶邻居节点\n",
    "\n",
    "def get_edge_types(g, walk):\n",
    "    edge_types = []\n",
    "    for i in range(len(walk) - 1):\n",
    "        src, dst = walk[i], walk[i + 1]\n",
    "        eid = g.edge_ids(src, dst)\n",
    "        edge_type = g.edata['etype'][eid]\n",
    "        edge_types.append(edge_type.item())\n",
    "    return edge_types\n",
    "\n",
    "\n",
    "# -------------------------------------main----------------------------------\n",
    "data[\"tail\"] = data[\"tail\"].apply(str)\n",
    "data[\"head\"] = data[\"head\"].apply(str)\n",
    "graph, node_encoder, relation_encoder = create_kg_from_data(data)\n",
    "\n",
    "item_id_name_map = artists.set_index('item_id')['name'].to_dict()\n",
    "item_2ndneighbor_text_dic = {}\n",
    "cnt = 0\n",
    "\n",
    "selected_relation = [ \"tagID_text\",]\n",
    "\n",
    "# for item_id in list(item_id_name_map.keys())[:10]:\n",
    "for item_id in item_id_name_map.keys():\n",
    "    cnt += 1\n",
    "    if cnt % 100 == 0:\n",
    "        print(cnt)\n",
    "        # break\n",
    "    \n",
    "    total_text = []\n",
    "\n",
    "    item_name = item_id_name_map[item_id]\n",
    "    item_node_id = node_encoder.transform([str(item_name)])[0]\n",
    "    item_2ndneighbor_text_dic[item_id] = []\n",
    "\n",
    "\n",
    "    cur_dic = node2vec_walk(graph, item_node_id, K=5)##返回至多K个2阶邻居\n",
    "    \n",
    "    for neighbor_id in cur_dic.keys():\n",
    "        \n",
    "        relation = get_edge_types(graph, walk=[item_node_id, neighbor_id])\n",
    "        # to text\n",
    "        neighbor = node_encoder.inverse_transform([neighbor_id])[0]\n",
    "        relation = relation_encoder.inverse_transform(relation)[0]\n",
    "        \n",
    "        if relation not in selected_relation:\n",
    "            continue\n",
    "     \n",
    "        second_order_neighbors = cur_dic[neighbor_id]\n",
    "        second_order_neighbors_list = []\n",
    "        for second_order_neighbor_id in second_order_neighbors:\n",
    "            second_order_neighbor = node_encoder.inverse_transform([second_order_neighbor_id])[0]\n",
    "            second_order_neighbors_list.append(second_order_neighbor)\n",
    "        # second_order_neighbors_name_list = [item_id_name_map[int(i)]+\"@\"+business[business[\"business_id_mapped\"]==int(i)]['address'].values[0] for i in second_order_neighbors_list]\n",
    "        second_order_neighbors_name_list = [i for i in second_order_neighbors_list]\n",
    "        item_2ndneighbor = \"; \".join(second_order_neighbors_name_list)\n",
    "\n",
    "        city = neighbor.split('_')[0]\n",
    "        if relation == \"tagID_text\":\n",
    "            neighbor = neighbor\n",
    "            text = f\"Artists with the same tag ({neighbor}) also include: {item_2ndneighbor}.\"\n",
    "        else:\n",
    "            continue\n",
    "            # raise ValueError(\"Unknown relation type\") \n",
    "\n",
    "        total_text.append(text)\n",
    "    \n",
    "    item_2ndneighbor_text_dic[item_id] = \" \".join(total_text) "
   ]
  },
  {
   "cell_type": "code",
   "execution_count": 5,
   "id": "43921d9b-352c-48f3-a658-234bf9beca5a",
   "metadata": {},
   "outputs": [
    {
     "data": {
      "text/plain": [
       "\"Artists with the same tag (romantic) also include: blink-182; Charles Aznavour; Cyndi Lauper; BoA; Moenia; Matchbox Twenty; Bruno Mars; Nickelback; Hubert Kah; Ne-Yo. Artists with the same tag (u2) also include: PJ Harvey; Gang of Four; Garbage; Robbie Williams; The Beatles; Zero 7; The Smiths; The Bravery; Eels; Rilo Kiley. Artists with the same tag (eighties) also include: David Bowie; Thompson Twins; Kylie Minogue; Bauhaus; Hubert Kah; ABBA; Anything Box; Kraftwerk; A Flock of Seagulls; Wham!. Artists with the same tag (johnny) also include: Sade; David Bowie; Queensrÿche; Oingo Boingo. Artists with the same tag (dd) also include: . Artists with the same tag (chillout) also include: Pet Shop Boys; Elbow; Yann Tiersen; Massive Attack; Leonard Cohen; HIM; Solar Fields; Orbital; Quantic; Autechre. Artists with the same tag (ambient) also include: Devin Townsend; This Will Destroy You; Aphex Twin; Oi Va Voi; Deep Forest; Efterklang; God Is an Astronaut; Sigur Rós; Emancipator; The Chemical Brothers. Artists with the same tag (new wave) also include: Tesla Boy; No Doubt; The Smashing Pumpkins; Vampire Weekend; Talk Talk; Pat Benatar; Yazoo; Yellow Magic Orchestra; Dave Gahan; Love and Rockets. Artists with the same tag (synth pop) also include: Client; Nitzer Ebb; MGMT; Talk Talk; Information Society; Robert Palmer; Pet Shop Boys; IAMX; Kraftwerk; Heaven 17. Artists with the same tag (electronic) also include: Ayria; Clark; Zeigeist; t.A.T.u.; Atomic Kitten; Ulver; Stars; Deutsch Amerikanische Freundschaft; Good Charlotte; Foetus. Artists with the same tag (80's) also include: Adam and the Ants; Thompson Twins; Donna Summer; Whitney Houston; Wham!; George Michael; Hubert Kah; Paul McCartney; Sting; Kraftwerk. Artists with the same tag (erotic) also include: Madonna; Darren Hayes; Berlin; The Magnetic Fields; Indochine; Tarkan; Moenia. Artists with the same tag (favourite songs) also include: Dave Gahan; Radiohead; Icehouse; Madonna; Starsailor; Strapping Young Lad; Siouxsie and the Banshees; Lenny Kravitz; Brainstorm; Sarah McLachlan. Artists with the same tag (1995) also include: Garth Brooks; Bon Jovi; Garbage; Radiohead; The Human League; Mariah Carey; Red Hot Chili Peppers; Björk; Morten Harket; Jamiroquai. Artists with the same tag (pop) also include: Jet; Ximena Sariñana; Infernal; A*Teens; Richard Ashcroft; The Pipettes; Belinda; The Monkees; Marina & the Diamonds; The Police. Artists with the same tag (80s) also include: Martin L. Gore; The Allman Brothers Band; John Lee Hooker; Bonnie Tyler; Simple Minds; Sodom; BoA; Freddie Mercury; Dusty Springfield; The Cure. Artists with the same tag (1981) also include: Whitesnake; Ultravox; Sezen Aksu; Van Halen; David Bowie; The Police; ABBA; Elvis Costello; James Brown; Blondie. Artists with the same tag (atmospheric) also include: IAMX; The Beatles; Spandau Ballet; John Foxx; Kate Nash; U2; MGMT; Ulver; Café Del Mar; Simple Minds. Artists with the same tag (ethereal) also include: Goldfrapp; Evanescence; Björk; The Album Leaf; The Cranberries; Delerium; Portishead; Bang Gang; Angelo Badalamenti; Trentemøller. Artists with the same tag (experimental) also include: Muse; Portugal. The Man; 2H Company; The Cranberries; The Knife; Tomahawk; Animals as Leaders; Deine Lakaien; Scars on Broadway; Pet Shop Boys. Artists with the same tag (danny) also include: Japan; Simple Minds. Artists with the same tag (dance) also include: Usher; Cut Copy; Donna Summer; Cher; Paramore; Gossip; 宇多田ヒカル; Klaxons; Mylène Farmer; Cansei de Ser Sexy. Artists with the same tag (synth-pop) also include: China Crisis; Van She; Cut Copy; The Birthday Massacre; Ayria; Depeche Mode; Daft Punk; Moenia; Cansei de Ser Sexy; Belanova. Artists with the same tag (melancholic) also include: Mariah Carey; Clan of Xymox; Creed; The Killers; Portishead; Empyrium; Tori Amos; Seether; Myslovitz; a-ha. Artists with the same tag (duran my fave from wedding album) also include: . Artists with the same tag (love duran jt) also include: . Artists with the same tag (acoustic rock) also include: Marjorie Estiano; Ryan Cabrera; 3 Doors Down; Moby; Third Eye Blind; Oasis; Death Cab for Cutie; Maroon 5; Jason Mraz; McFly. Artists with the same tag (dub) also include: The Notwist; Pet Shop Boys; Bad Brains; Skinny Puppy; Nightmares on Wax; Bloc Party; Echo & The Bunnymen; Air; a-ha; Grace Jones. Artists with the same tag (rock) also include: Gustavo Cerati; Sophie Ellis-Bextor; Pink; Smash Mouth; Rage Against the Machine; Mew; Funeral for a Friend; Idlewild; Celldweller; Beeshop. Artists with the same tag (synthpop) also include: Seabound; Jay-Jay Johanson; Thomas Dolby; The Radio Dept.; Metric; Robots in Disguise; Enya; Katy Perry; Melotron; Bertine Zetlitz. Artists with the same tag (covers) also include: Blondie; Placebo; Buddy Holly; Tom Petty and the Heartbreakers; Freddie Mercury; Carpenters; Foo Fighters; David Bowie; Regina Spektor; Katy Perry. Artists with the same tag (rain) also include: Prince; Creed; Roxette; Tim McGraw; Mark Knopfler; Richard Hawley; Joni Mitchell; The Who; The Police; Tom Waits. Artists with the same tag (alternative rock) also include: Nickelback; MGMT; Primus; Dave Matthews Band; Kelly Clarkson; Sarah McLachlan; Pillar; Vanguart; Buckcherry; Gossip. Artists with the same tag (alternative) also include: Carolina Liar; The Dresden Dolls; Live; Ariel Pink's Haunted Graffiti; Guns N' Roses; Recoil; Iris; The Submarines; Primus; Radiohead. Artists with the same tag (indie) also include: Hanson; Mr Hudson; Gus Gus; Róisín Murphy; Pedro the Lion; Beirut; The Wombats; Starsailor; The Dresden Dolls; Julian Casablancas. Artists with the same tag (indie rock) also include: Goo Goo Dolls; The White Stripes; Jet; Manic Street Preachers; Tegan and Sara; LCD Soundsystem; Jimmy Eat World; Tokyo Police Club; Aloha From Hell; White Rose Movement. Artists with the same tag (house) also include: Freemasons; Toro y Moi; Saint Etienne; Christina Aguilera; Yazoo; Tiësto; Miami Horror; Chris Brown; ATB; Alcazar. Artists with the same tag (pop rock) also include: Megh Stock; Panic at the Disco; Detonautas Roque Clube; We The Kings; Panic! At the Disco; Fuel; Selena Gomez & the Scene; Camp Rock; Miranda Cosgrove; Maná. Artists with the same tag (nelly furtado) also include: Michael Bublé; Jay-Z; Rihanna; Natalie Imbruglia; Alanis Morissette; Justin Timberlake; Tracy Chapman; Beyoncé; Ashlee Simpson; Aaliyah. Artists with the same tag (slowies) also include: Saint Etienne; Front 242; The Verve; Editors; Autechre; Bryan Ferry; Erasure; David Bowie; Jan Hammer; Morrissey. Artists with the same tag (edit) also include: Billy Idol; The Chemical Brothers; Dead or Alive; Sarah McLachlan; Frankie Goes to Hollywood; New Order; Heaven 17; Blur; Depeche Mode; The Future Sound of London. Artists with the same tag (uk) also include: Led Zeppelin; Dusty Springfield; All Saints; Crass; Franz Ferdinand; Kosheen; The Horrors; Coil; Ultravox; The Specials. Artists with the same tag (old school) also include: Led Zeppelin; Faith No More; Aerosmith; Madvillain; Black Flag; Metallica; Journey; Deep Purple; Boston; N.W.A. Artists with the same tag (song with samples) also include: Biosphere; Pet Shop Boys; Def Leppard; Orbital; The The; Aphex Twin; Information Society; George Michael; Art of Noise; Moby. Artists with the same tag (seen live) also include: Eluveitie; Gossip; Beach House; Morrissey; Alice in Chains; And One; Xavier Naidoo; Boys Like Girls; Richard Hawley; Paul Weller. Artists with the same tag (hit) also include: The Jackson 5; Michael Jackson; UB40; Janet Jackson; Lady Gaga; Miley Cyrus; Eva Simons; Thalía; Supertramp; The Beatles. Artists with the same tag (guilty pleasure) also include: Metro Station; Alexandra Burke; Mandy Moore; Leona Lewis; Courtney Love; Robbie Williams; ...And You Will Know Us by the Trail of Dead; Scissor Sisters; 동방신기; Ke$ha. Artists with the same tag (singer-songwriter) also include: Mallu Magalhães; Albert King; Neutral Milk Hotel; Alanis Morissette; Robin Thicke; Simon & Garfunkel; Adam Lambert; Pete Yorn & Scarlett Johansson; Glen Hansard & Markéta Irglová; Taylor Swift. Artists with the same tag (best) also include: Bone Thugs-N-Harmony; Corinne Bailey Rae; Simple Plan; Visage; Marvin Gaye; Michael Jackson; Miranda Cosgrove; Sade; Avril Lavigne; Wanessa. Artists with the same tag (numbers) also include: Supergrass; Type O Negative; Travis; Rammstein; Kate Bush; Soft Cell; Matchbox Twenty; David Bowie; New Order; Lenny Kravitz. Artists with the same tag (faves) also include: Billy Idol; Doves; Opeth; Adam Lambert; Joy Division; Strapping Young Lad; Client; Ultravox; The Cult; U2. Artists with the same tag (scifi) also include: Pink Floyd; David Bowie; The Rolling Stones; Pixies; Kraftwerk; Monster Magnet; Super Furry Animals; Ash; New York Dolls; The Orb. Artists with the same tag (perfect) also include: Bonobo; Massive Attack; Frédéric Chopin; Los Hermanos; Yeah Yeah Yeahs; Christina Aguilera; OneRepublic; Archive; Miranda Cosgrove; Beach House. Artists with the same tag (all time faves) also include: Miss Kittin; The Crystal Method; Suzanne Vega; Shakira; P!nk; Alphaville; The Human League; Fatboy Slim; ABC; INXS. Artists with the same tag (blue songs) also include: Moby; Pink Floyd; Suzanne Vega. Artists with the same tag (grunge) also include: The Pretty Reckless; Staind; Адаптация Пчёл; Eddie Vedder; Puddle of Mudd; Bush; Garbage; Jason Mraz; Hole; Joy Division. Artists with the same tag (madonna) also include: Jay-Z and Linkin Park; Nelly Furtado; Timbaland; TLC; Rihanna; Keri Hilson; Robyn; Raven-Symoné; Mariah Carey; Janet Jackson. Artists with the same tag (bond) also include: Garbage; a-ha; Paul McCartney; Louis Armstrong; John Barry. Artists with the same tag (soundtrack) also include: Atomic Kitten; Air; The The; Aphex Twin; The Psychedelic Furs; Kings of Leon; Aerosmith; Hilary Duff; Steppenwolf; UB40. Artists with the same tag (acoustic) also include: Land of Talk; Band of Skulls; Rise Against; Bob Marley & The Wailers; Live; Neil Young; Kimya Dawson; Jon Foreman; Attack Attack!; Led Zeppelin. Artists with the same tag (electronica) also include: Innerpartysystem; Efterklang; MGMT; µ-Ziq; Frankmusik; Two Door Cinema Club; Jennifer Lopez; Killing Joke; Little Joy; Hooverphonic. Artists with the same tag (instrumental) also include: Chic; Orchestral Manoeuvres in the Dark; múm; Eurythmics; Pet Shop Boys; The Shadows; Thelonious Monk; Ladytron; Philip Glass; Attack Attack!. Artists with the same tag (classic rock) also include: Emerson, Lake & Palmer; Eric Clapton; The Kinks; Paul Simon; Alanis Morissette; The Black Crowes; Mr. Big; Queen; Crosby, Stills, Nash & Young; Franz Ferdinand. Artists with the same tag (2008) also include: Tori Amos; Tom Waits; Buckcherry; Ryan Adams; Sunrise Avenue; Morten Harket; Oasis; The Ark; Hot Chip; Lady Gaga. Artists with the same tag (british) also include: Editors; Simple Minds; The Specials; Melanie C; The Pipettes; Portishead; I Blame Coco; Jessie J; The Cure; The Subways. Artists with the same tag (anthemic) also include: Madonna; INXS; The Killers; P!nk; Manic Street Preachers; Killing Joke; Alphaville; Queen; The Power Station. Artists with the same tag (stylish) also include: Goldfrapp; George Michael; The Human League; Dead or Alive; Culture Club; Arcadia. Artists with the same tag (club) also include: Alcazar; Cher; Armand van Helden; Basshunter; David Guetta; Kylie Minogue; Mariah Carey; Christina Aguilera; Chris Brown; Inna. Artists with the same tag (hot) also include: Brandon Flowers; Super Junior; The Prodigy; Flo Rida; The Cure; Little Boots; Melanie C; Ke$ha; Sophie Ellis-Bextor; Paramore. Artists with the same tag (guilty pleasures) also include: Aly & AJ; Ashlee Simpson; INXS; Chicago; Gwen Stefani; Smash Mouth; Heaven 17; Daddy Yankee; Soft Cell; Depeche Mode. Artists with the same tag (majestic) also include: Garbage; Queen; Siouxsie and the Banshees; Mansun. Artists with the same tag (james bond) also include: Madonna; Garbage; a-ha; Paul McCartney; Chris Cornell; Louis Armstrong; Sheryl Crow; Nancy Sinatra; John Barry. Artists with the same tag (80s stuff) also include: Men at Work. Artists with the same tag (legend) also include: Ana Carolina; Cyndi Lauper; Britney Spears; The Doors; David Bowie; Weird Al Yankovic; Phil Collins; Pink Floyd; Whitney Houston; Dolly Parton. Artists with the same tag (00s) also include: Velvet Revolver; Vanguart; Monica; Fiona Apple; Gregorian; Kate Nash; Alizée; MGMT; Taylor Swift; Kerli. Artists with the same tag (beautiful) also include: Nick Cave and the Bad Seeds; Apocalyptica; John Frusciante; Brainstorm; Arctic Monkeys; dredg; Akon; Girls Aloud; Poets of the Fall; Queen. Artists with the same tag (love at first listen) also include: Ra Ra Riot; La Roux; Heidi Montag; Fischerspooner; Sia; Jamie Cullum; Josh Groban; Aly & AJ; Flo Rida; Christina Aguilera. Artists with the same tag (epic) also include: Bad Company; Arctic Monkeys; Black Rebel Motorcycle Club; Eric Clapton; Pixies; Queen; Fireflight; Journey; Crystal Castles; Avantasia. Artists with the same tag (love it) also include: Guns N' Roses; Keane; Mew; The American Dollar; The Verve; João Gilberto; Thirteen Senses; Rihanna; Vive la Fête; Shania Twain. Artists with the same tag (ballad) also include: Jessica Simpson; Jennifer Hudson; Taylor Swift; Tiziano Ferro; Luis Miguel; Aerosmith; HammerFall; Meat Loaf; Ben Folds; Darren Hayes. Artists with the same tag (tender) also include: . Artists with the same tag (leftovergrooves) also include: Annie Lennox; Café Del Mar; Zeca Baleiro; Kylie Minogue; The Corrs; Alanis Morissette; Amethystium; U2; Melanie C; Santana. Artists with the same tag (sexy) also include: Dan Balan; Archive; The Verve; Red Hot Chili Peppers; Metro Station; Katy Perry; Sam Sparro; Andrés Calamaro; Alan Jackson; Linkin Park. Artists with the same tag (collectables) also include: . Artists with the same tag (single) also include: Talking Heads; Bryan Ferry; Paramore; a-ha; Phil Collins; Joe McElderry; George Michael; Elvis Costello; Bonnie Tyler; Katy Perry. Artists with the same tag (weirdness) also include: Muse; Beck; Sigur Rós; múm; Jónsi; Björk; Imogen Heap; The Flaming Lips. Artists with the same tag (songs to feel happy to) also include: Coldplay; The Cure; Arctic Monkeys; The Beatles; The Strokes; The Smiths; Joy Division; The Last Shadow Puppets. Artists with the same tag (seen in concert) also include: Goo Goo Dolls; Avril Lavigne; Incubus; Buckcherry; Foreigner; Lady Gaga; Natasha Bedingfield; Bryan Adams; Bon Jovi; Jason Mraz. Artists with the same tag (new romantics) also include: Siouxsie and the Banshees; Visage; Naked Eyes; Adam Ant. Artists with the same tag (retro) also include: Ida Maria; Sandra; Crowded House; Falco; The Psychedelic Furs; Pet Shop Boys; Alphabeat; Peggy Lee; Peter Gabriel; Big Country. Artists with the same tag (i want back to the 80s) also include: Visage; Arcadia. Artists with the same tag (duran) also include: . Artists with the same tag (post-punk) also include: Wire; The Stranglers; Morrissey; Cabaret Voltaire; No Doubt; The Kills; Aqualung; Depeche Mode; Killing Joke; The Smiths. Artists with the same tag (electro-pop) also include: Kylie Minogue; Depeche Mode; Christina Aguilera; Pet Shop Boys; Ladytron; Arcadia; Róisín Murphy. Artists with the same tag (awesome) also include: Mötley Crüe; Madonna; Basement Jaxx; The National; Faith No More; Death Cab for Cutie; Friendly Fires; Air Supply; Maná; Jessica Simpson. Artists with the same tag (hypnotic) also include: Nine Inch Nails; OneRepublic; Judas Priest; Nelly Furtado; Jars of Clay; Massive Attack; Archive; God Is an Astronaut; Linkin Park; Craig Armstrong. Artists with the same tag (b-side) also include: Editors; Erasure; Frankie Goes to Hollywood; The Cult; Spice Girls; Prince; The Sisters of Mercy; Yazoo; The Smashing Pumpkins; Bush. Artists with the same tag (indie pop) also include: Tegan and Sara; Christina Perri; Lady Gaga; Stevie Wonder; Télépopmusik; The Apples in Stereo; The Naked and Famous; The Kooks; Air; Grandaddy. Artists with the same tag (political) also include: Simple Minds; R.E.M.; Dead Kennedys; Green Day; Marvin Gaye; Billie Holiday; The Smiths; Rage Against the Machine; The Police; Peter Gabriel. Artists with the same tag (mellow) also include: The Alan Parsons Project; Robert Pattinson; Maroon 5; Sigur Rós; Lady Sovereign; Busta Rhymes; A Fine Frenzy; Madonna; Jay-Z; Chicago. Artists with the same tag (the best) also include: Emma Shapplin; Arctic Monkeys; Daft Punk; Julieta Venegas; Evanescence; a-ha; t.A.T.u.; Mariah Carey; Rihanna; DJ Krush. Artists with the same tag (nineties) also include: Backstreet Boys; Ace of Base; The Beatles; Michael Jackson; Aqua; The Human League; Janet Jackson; Ringo Starr; All Saints; Hanson. Artists with the same tag (1990's) also include: The Beatles; Aqua; Janet Jackson; Backstreet Boys; The Human League; Weird Al Yankovic; Ringo Starr; Spice Girls; Björk; Michael Jackson. Artists with the same tag (nostalgia) also include: Owen; Simon & Garfunkel; Queen; Ultravox; Christina Aguilera; Depeche Mode; Panda Bear; Joy Division; a-ha; INXS. Artists with the same tag (amazing vocal) also include: Kylie Minogue; Madonna; Depeche Mode; Whitney Houston; Christina Aguilera; Queen; Tori Amos; Diana Krall. Artists with the same tag (energetic) also include: Linkin Park; The Cure; Muse; Placebo; Kylie Minogue; Röyksopp; Hilary Duff; Bat for Lashes; Ladyhawke; The Power Station. Artists with the same tag (my favorites) also include: Marc Almond; The Clash; Morrissey; Cabaret Voltaire; The B-52's; Blancmange; Garbage; The Smiths; Madness; Dead or Alive. Artists with the same tag (cover) also include: New Found Glory; Roxy Music; Pat Benatar; Joan Jett and the Blackhearts; Woe, Is Me; The Dandy Warhols; Erasure; Camouflage; Motörhead; Fields of the Nephilim. Artists with the same tag (1008) also include: Saxon; Pixies; Ultravox; Creedence Clearwater Revival; Frank Zappa; Level 42; Steely Dan; Stevie Ray Vaughan and Double Trouble; AC/DC; Iron Maiden. Artists with the same tag (fucking amazing) also include: Lady Gaga; Cueio Limão; Def Leppard; Simple Plan; Fresno; Depeche Mode; Interpol; Green Day; The Beatles; Band of Horses. Artists with the same tag (90s) also include: The Moody Blues; Stone Temple Pilots; Carcass; Marc Almond; And One; Korn; Iggy Pop; Toadies; AFI; Silverchair. Artists with the same tag (brit pop) also include: Kylie Minogue; The Beatles; Dannii Minogue; Atomic Kitten. Artists with the same tag (favorites) also include: Death Cab for Cutie; Britney Spears; Tarkan; Deutsch Amerikanische Freundschaft; Iron & Wine; Michael Jackson; Limp Bizkit; Joanna Newsom; Broken Social Scene; Grizzly Bear. Artists with the same tag (fav songs) also include: A Flock of Seagulls; New Order; Midnight Oil; The Organ; Yann Tiersen; Simple Minds; Soft Cell; The Cars; Kajagoogoo; The Human League. Artists with the same tag (new wave songs) also include: Sparks; Kajagoogoo; Gary Numan; Talking Heads; Yellow Magic Orchestra; The The; Thompson Twins; A Flock of Seagulls; Talk Talk; Simple Minds. Artists with the same tag (fav artists) also include: Ultravox; Blancmange; The Cars; Erasure; Heaven 17; Kraftwerk; They Might Be Giants; Yellow Magic Orchestra; Berlin; Alphaville. Artists with the same tag (1982 songs) also include: Icehouse; Sparks; Talk Talk; Roxy Music; Devo; Thomas Dolby; Michael Jackson; Ultravox; The Psychedelic Furs; Spandau Ballet. Artists with the same tag (bad day) also include: Queensrÿche; Simple Minds; Grace Jones; Arcadia; Adam and the Ants; The Blues Brothers; Bryan Adams; The Human League; Information Society; Japan. Artists with the same tag (life on mars) also include: Kajagoogoo; Peter Gabriel; Pink Floyd; Thompson Twins; Genesis; Japan; Arcadia; David Bowie; Queensrÿche; Staind. Artists with the same tag (british artists) also include: John Foxx; The Psychedelic Furs; Soft Cell; Fad Gadget; A Flock of Seagulls; Spandau Ballet; Pet Shop Boys; Japan; Gang of Four; ABC. Artists with the same tag (1981 songs) also include: Depeche Mode; Simple Minds; The Human League; Yellow Magic Orchestra; Visage; Japan; Oingo Boingo; Kraftwerk; Adam and the Ants; The Police. Artists with the same tag (new wave artists) also include: The Cars; Level 42; They Might Be Giants; Oingo Boingo; Spandau Ballet; Kajagoogoo; Scritti Politti; Icehouse; Japan; The Fixx. Artists with the same tag (titans) also include: Bryan Adams; Peter Gabriel; Simple Minds; David Bowie; a-ha; Queensrÿche; Genesis; Pink Floyd; Information Society; Madness. Artists with the same tag (1983 songs) also include: Gary Numan; John Foxx; Yello; Billy Idol; XTC; Heaven 17; The Fixx; Yellow Magic Orchestra; The The; Sparks. Artists with the same tag (new romantic songs) also include: Spandau Ballet; Japan; ABC; Ultravox; Visage; Adam and the Ants. Artists with the same tag (britpop) also include: Melanie C; Natalia Kills; Maxïmo Park; The Last Shadow Puppets; The Divine Comedy; Manic Street Preachers; The Subways; Train; Kaiser Chiefs; Ash. Artists with the same tag (bobbi) also include: Bryan Adams; Simple Minds; Information Society; Queensrÿche; Oingo Boingo; Eurythmics; Peter Gabriel; Adam and the Ants; Meat Loaf. Artists with the same tag (roy) also include: Simply Red; Simple Minds; The Fixx; Staind; Peter Gabriel; Arcadia; Bryan Adams; Adam and the Ants; Queensrÿche; Genesis. Artists with the same tag (clint) also include: Bryan Adams; Simple Minds; The Police; Guns N' Roses; Queensrÿche; Oingo Boingo; Adam and the Ants; Meat Loaf. Artists with the same tag (simon) also include: Pink Floyd; Bryan Adams; David Bowie; Simple Minds; Queensrÿche; Genesis; Oingo Boingo; Madness. Artists with the same tag (babs) also include: Information Society; Genesis; Pink Floyd; Arcadia; Oingo Boingo; The Human League; Simple Minds; Queensrÿche; Meat Loaf; a-ha. Artists with the same tag (new romantic) also include: And One; Franz Ferdinand; Tears for Fears; Depeche Mode; Howard Jones; A Flock of Seagulls; Blancmange; Gary Numan; Japan; The Power Station. Artists with the same tag (wally) also include: Bryan Adams; Simple Minds; Queensrÿche; Oingo Boingo; Kajagoogoo; Arcadia. Artists with the same tag (runaways) also include: Pink Floyd; Guns N' Roses; Queensrÿche; Midnight Oil; Dead Kennedys. Artists with the same tag (rachel) also include: Simple Minds; Queensrÿche; Oingo Boingo; Meat Loaf. Artists with the same tag (government) also include: Pink Floyd; Guns N' Roses; Judas Priest; Midnight Oil. Artists with the same tag (drugs) also include: Jem; Thomas Dolby; Eels; The Offspring; Ben Folds; Hole; Crystal Castles; Grace Jones; Everclear; R.E.M.. Artists with the same tag (caleb) also include: Japan; Tears for Fears; Oingo Boingo; Eurythmics; Kitaro. Artists with the same tag (tula) also include: Cyndi Lauper; Simple Minds; Sting; Oingo Boingo; Arcadia. Artists with the same tag (tony) also include: Information Society; Guns N' Roses; Black Sabbath; Oingo Boingo; Madness; Peter Gabriel. Artists with the same tag (jason) also include: Bryan Adams; Jason Mraz; Simple Minds; Guns N' Roses; Oingo Boingo; Peter Gabriel. Artists with the same tag (kon) also include: Simple Minds; The Human League; Queensrÿche; Oingo Boingo; Meat Loaf. Artists with the same tag (amelia) also include: Information Society; Eurythmics; Kitaro. Artists with the same tag (b-sides) also include: Japan; The Police; Talk Talk; Thomas Dolby; The Human League; Yellow Magic Orchestra; Art of Noise; Yazoo; The Psychedelic Furs; Depeche Mode. Artists with the same tag (tara) also include: Oingo Boingo; Adam and the Ants. Artists with the same tag (bad days) also include: . Artists with the same tag (unsure) also include: Howard Jones; Funkadelic. Artists with the same tag (reasons to love 80s) also include: Madonna; Cyndi Lauper. Artists with the same tag (90's) also include: Spice Girls; Janet Jackson; Shania Twain; Sixpence None the Richer; Mariah Carey; Céline Dion; Ringo Starr; Michael Jackson; Toni Braxton; Ace of Base. Artists with the same tag (chilled) also include: Madonna. Artists with the same tag (demo) also include: Saint Etienne; Mansun; Frankie Goes to Hollywood; Panic! At the Disco; Lady Gaga; Ride; The Cure; Depeche Mode; The Cult; Elvis Costello. Artists with the same tag (dramatic) also include: Radiohead; The Cure; Alanis Morissette; IAMX; Siouxsie and the Banshees; Editors; Dead or Alive; The Power Station. Artists with the same tag (tag your songs properly) also include: Joy Division; The Who; Aerosmith; Van Halen. Artists with the same tag (artists) also include: Chic; U2; Gang of Four; Roxy Music; Asia; Depeche Mode; The Rolling Stones; The Power Station; Arcadia; Tears for Fears. Artists with the same tag (remix) also include: UNKLE; Fatboy Slim; Janet Jackson; Lindsay Lohan; Aphex Twin; Justin Bieber; David Bowie; Basement Jaxx; Yazoo; Kelly Key. Artists with the same tag (x-men) also include: Pink Floyd; Queensrÿche; Oingo Boingo. Artists with the same tag (1990s) also include: Janet Jackson; Megadeth; Pearl Jam; Liquid Tension Experiment; Björk; The Beatles; Spice Girls; Michael Jackson; Backstreet Boys; Christina Aguilera. Artists with the same tag (roxy) also include: Information Society. Artists with the same tag (bad girls) also include: Grace Jones; Oingo Boingo. Artists with the same tag (namora) also include: Arcadia. Artists with the same tag (teddy) also include: David Bowie; The Human League. Artists with the same tag (new wave and eighties) also include: Talk Talk; Ultravox; Nick Cave and the Bad Seeds; Cocteau Twins; Pet Shop Boys; ABBA; New Order; Marillion; Prince; The Jam. Artists with the same tag (the beowulfs choice) also include: China Crisis; Pulp; The Human League; And One; Electronic; The B-52's; New Order; Electric Six; Modest Mouse; Orchestral Manoeuvres in the Dark. Artists with the same tag (scholes song) also include: Joy Division; Sparks; Tears for Fears; Helloween; Frankie Goes to Hollywood; Pulp; Daft Punk; The Power Station; Minus the Bear; Throbbing Gristle. Artists with the same tag (favourites) also include: Emancipator; Editors; The Flashbulb; Plaid; Martin L. Gore; Radiohead; U2; Interpol; Savage Garden; Gridlock. Artists with the same tag (my pleasuredome) also include: Frankie Goes to Hollywood; Pet Shop Boys; The Residents; Icehouse; Sparks; Alphaville; Orchestral Manoeuvres in the Dark; Antonio Vivaldi; The Human League; Iggy Pop. Artists with the same tag (zadrotstvo) also include: The Human League; Japan; OneRepublic; Ultravox; The Power Station; Angelo Badalamenti; Rooney; Wolfsheim; Alphaville; The Residents. Artists with the same tag (my fav fun) also include: Morrissey; Therion; Frankie Goes to Hollywood; Blondie; Pet Shop Boys; Nik Kershaw; At Vance; Bee Gees; Throbbing Gristle; Icehouse. Artists with the same tag (touching song) also include: China Crisis; Ultravox; Kent; Madness; Nightwish; Bee Gees; The Power Station; Manic Street Preachers; Pet Shop Boys; Travis. Artists with the same tag (ogonj) also include: The Residents; The Human League; Sparks; Helloween; Pulp; Cabaret Voltaire; Alphaville; China Crisis; Frankie Goes to Hollywood; Iggy Pop. Artists with the same tag (absolute disco) also include: Genesis; Helloween; Frankie Goes to Hollywood; Pulp; Alphaville; And One; The B-52's; Pet Shop Boys; Sparks; Bee Gees. Artists with the same tag (mix) also include: Daft Punk; Madonna; Sade; Depeche Mode; Prefuse 73; Dashboard Confessional. Artists with the same tag (loved tracks) also include: Emarosa; Fresno; Good Charlotte; Sugarcult; Simple Plan; blink-182; Alesana; A Day to Remember; Porcelain and the Tramps; Paramore. Artists with the same tag (nejlepsi) also include: Kraftwerk; Madness; Sparks; The Human League; And One; Oasis; Suede; Rooney; The Residents; Frankie Goes to Hollywood. Artists with the same tag (po-andoneovski) also include: And One; New Order; Pulp; Alphaville; The Human League; Ultravox; Sparks. Artists with the same tag (my choice) also include: Alphaville; Frankie Goes to Hollywood; Bee Gees; In Extremo. Artists with the same tag (duran duran) also include: The Power Station; Kajagoogoo; Arcadia; Ferry Corsten; Andy Taylor. Artists with the same tag (sex) also include: Gwen Stefani; Suede; The Kooks; Kelis; Lily Allen; Jeff Buckley; 311; Serge Gainsbourg; Dave Gahan; The Cult. Artists with the same tag (best songs ever) also include: The Rolling Stones; Radiohead; Lenny Kravitz; Depeche Mode; Coldplay; Yann Tiersen; 倖田來未; Martin L. Gore; U2; Brainstorm. Artists with the same tag (religion) also include: Prince; Coldplay; The Stone Roses; Jeff Buckley; David Gray; Radiohead; Ash; Dusty Springfield; Kula Shaker; Blancmange. Artists with the same tag (favorite tracks) also include: a-ha; The Smiths; Blondie; Orchestral Manoeuvres in the Dark; Ultravox; Sex Pistols; Gary Numan; Echo & The Bunnymen. Artists with the same tag (live) also include: Paul McCartney; Mogwai; Ben Folds; ABBA; Joy Division; Simon & Garfunkel; Bryan Ferry; Simple Minds; The Chemical Brothers; Regina Spektor. Artists with the same tag (80s pop) also include: a-ha; Howard Jones; Magne F; ABC; Erasure; Robert Palmer; Camouflage; Adam Ant; Kajagoogoo; Paul McCartney. Artists with the same tag (love) also include: Dave Gahan; We The Kings; Jimmy Eat World; Christina Aguilera; Amy Winehouse; Ingrid Michaelson; Josh Groban; Tokio Hotel; Art of Noise; Damien Rice. Artists with the same tag (dance-pop) also include: Anahí; Kim Wilde; 소녀시대; Jennifer Lopez; The Pussycat Dolls; September; Christina Aguilera; Black Eyed Peas; Nelly Furtado; Edward Maya.\""
      ]
     },
     "execution_count": 5,
     "metadata": {},
     "output_type": "execute_result"
    }
   ],
   "source": "item_2ndneighbor_text_dic[0]##拥有相同标签的用户的名字，字典类型"
  },
  {
   "cell_type": "code",
   "execution_count": 19,
   "id": "0d640c82-aeb5-4e20-a4b6-ac59f9ff754b",
   "metadata": {},
   "outputs": [
    {
     "name": "stdout",
     "output_type": "stream",
     "text": [
      "The number of requests is:  2813\n"
     ]
    }
   ],
   "source": [
    "import json\n",
    "\n",
    "def prompt_generation(id, name, item_1stneighbor_text_dic, item_2ndneighbor_text_dic):##用户的所有标签\n",
    "    basic_info = item_1stneighbor_text_dic[id]\n",
    "    order_2nd_info = item_2ndneighbor_text_dic[id]\n",
    "\n",
    "\n",
    "    analysis = \\\n",
    "    f\"\"\"\n",
    "    The name of the artist is: {name}. Below is the information about this artist:\n",
    "    1) Tags of this artist: {basic_info} ;\n",
    "    2) Related artists who have been tagged same labels with this artist: {order_2nd_info}\n",
    "    \n",
    "    \"\"\"\n",
    "    \n",
    "    return analysis\n",
    "\n",
    "\n",
    "question_dic = {}\n",
    "for id, name in item_id_name_map.items():\n",
    "    prompt = prompt_generation(id, name, item_1stneighbor_text_dic, item_2ndneighbor_text_dic)        \n",
    "    question_dic[id] = prompt\n",
    "\n",
    "\n",
    "print(\"The number of requests is: \", len(list(question_dic.keys())))\n",
    "\n",
    "\n",
    "\n",
    "with open('/Users/Desktop/data/lastfm-2k/llm_input_item.json', 'w') as f:\n",
    "    json.dump(question_dic, f)"
   ]
  },
  {
   "cell_type": "code",
   "id": "04c4f7f2-b294-4341-990f-c3efbb943841",
   "metadata": {
    "ExecuteTime": {
     "end_time": "2025-09-18T10:37:09.487426Z",
     "start_time": "2025-09-18T10:37:01.991578Z"
    }
   },
   "source": [
    "import math\n",
    "tot_num=0\n",
    "user_num=0\n",
    "path='../data/lastfm/'\n",
    "file='train.txt'\n",
    "from collections import defaultdict\n",
    "item_user_dic=defaultdict(list)\n",
    "with open(path+file,'r') as f:\n",
    "    for line in f:\n",
    "        data=line.strip().split(' ')\n",
    "        u_id,items=data[0],data[1:]\n",
    "        u_id,items=int(u_id),[int(p) for p in items]\n",
    "        item_list=list(set(items))\n",
    "        tot_num+=len(item_list)\n",
    "        user_num+=1\n",
    "        for i in item_list:\n",
    "            item_user_dic[i].append(u_id)\n",
    "item_id_tif={}\n",
    "index=[]\n",
    "val=[]\n",
    "\n",
    "for i in item_user_dic.keys():\n",
    "    item_id_tif[i]=1.0*(float(len(item_user_dic[i]))/tot_num)*math.log(float(user_num)/len(item_user_dic[i]))\n",
    "    mt=list(set(item_user_dic[i]))\n",
    "    for item in mt:\n",
    "        for p in mt:\n",
    "            index.append([item,p])\n",
    "            val.append(item_id_tif[i])\n",
    "from scipy.sparse import coo_matrix,save_npz\n",
    "index=np.array(index)\n",
    "val=np.array(val)\n",
    "user_matrix=coo_matrix((val,(index[:,0],index[:,1])),dtype=np.float64)\n",
    "user_matrix=user_matrix.tocsr()\n",
    "save_npz(path+'user_matrix.npz',user_matrix)\n",
    "print('process over')\n",
    "\n",
    "\n",
    "\n",
    "\n",
    "    \n",
    "    \n",
    "        \n"
   ],
   "outputs": [],
   "execution_count": 57
  },
  {
   "metadata": {
    "ExecuteTime": {
     "end_time": "2025-09-18T11:22:42.500487Z",
     "start_time": "2025-09-18T11:22:41.758938Z"
    }
   },
   "cell_type": "code",
   "source": [
    "import numpy as np\n",
    "path='../data/lastfm/'\n",
    "npz_file=path+'user_matrix.npz'\n",
    "from scipy.sparse import load_npz,save_npz,coo_matrix\n",
    "mtt=load_npz(npz_file)\n",
    "x=range(mtt.shape[0])\n",
    "val=[0.5]*mtt.shape[0]\n",
    "mtt=mtt.tocoo()\n",
    "print('prepare')\n",
    "mtt.row=np.hstack([mtt.row,x])\n",
    "mtt.col=np.hstack([mtt.col,x])\n",
    "mtt.data=np.hstack([mtt.data,val])\n",
    "mat=np.array(mtt.todense())\n",
    "print('over change')\n",
    "hang_sum=np.sum(mat,axis=1,keepdims=True)\n",
    "mat=mat/hang_sum\n",
    "print(\"matrix change\")\n",
    "fin_npz=coo_matrix(mat)\n",
    "save_npz(path+'user_user_mat.npz',fin_npz)"
   ],
   "id": "b5b6103ac10979d4",
   "outputs": [
    {
     "name": "stdout",
     "output_type": "stream",
     "text": [
      "prepare\n",
      "over change\n",
      "matrix change\n"
     ]
    }
   ],
   "execution_count": 68
  },
  {
   "metadata": {
    "ExecuteTime": {
     "end_time": "2025-09-21T04:50:54.091401Z",
     "start_time": "2025-09-21T04:50:52.631170Z"
    }
   },
   "cell_type": "code",
   "source": [
    "path='../data/lastfm/user_user_mat.npz'\n",
    "from scipy.sparse import load_npz,save_npz,coo_matrix\n",
    "aa=load_npz(path)\n",
    "print(aa.shape)"
   ],
   "id": "b48233eb1182664a",
   "outputs": [
    {
     "name": "stdout",
     "output_type": "stream",
     "text": [
      "(1859, 1859)\n"
     ]
    }
   ],
   "execution_count": 19
  },
  {
   "metadata": {
    "ExecuteTime": {
     "end_time": "2025-09-18T10:45:47.037213Z",
     "start_time": "2025-09-18T10:45:47.029003Z"
    }
   },
   "cell_type": "code",
   "source": [
    "indeces=torch.tensor([user_user_mat.nonzero()[0],user_user_mat.nonzero()[1]],dtype=torch.long)\n",
    "values=torch.tensor(user_user_mat.data,dtype=torch.float)\n",
    "sparse_tensor=torch.sparse_coo_tensor(values,indeces,user_user_mat.shape)"
   ],
   "id": "35e775ecd1e07d8a",
   "outputs": [
    {
     "name": "stdout",
     "output_type": "stream",
     "text": [
      "0.00023655026501787627\n"
     ]
    }
   ],
   "execution_count": 59
  },
  {
   "metadata": {
    "ExecuteTime": {
     "end_time": "2025-09-18T10:46:27.907482Z",
     "start_time": "2025-09-18T10:46:27.882548Z"
    }
   },
   "cell_type": "code",
   "source": "print(np.median(dd))",
   "id": "d104d2aeb5ba8fa3",
   "outputs": [
    {
     "name": "stdout",
     "output_type": "stream",
     "text": [
      "0.013144194976156778\n"
     ]
    }
   ],
   "execution_count": 60
  },
  {
   "metadata": {
    "ExecuteTime": {
     "end_time": "2025-09-18T10:55:11.259524Z",
     "start_time": "2025-09-18T10:55:11.255256Z"
    }
   },
   "cell_type": "code",
   "source": "print(mtt.shape)",
   "id": "93cbff8c0848ecdd",
   "outputs": [
    {
     "name": "stdout",
     "output_type": "stream",
     "text": [
      "(1859, 1859)\n"
     ]
    }
   ],
   "execution_count": 61
  },
  {
   "metadata": {},
   "cell_type": "code",
   "outputs": [],
   "execution_count": null,
   "source": "",
   "id": "47631d5ce0ad6482"
  }
 ],
 "metadata": {
  "kernelspec": {
   "display_name": "Python 3 (ipykernel)",
   "language": "python",
   "name": "python3"
  },
  "language_info": {
   "codemirror_mode": {
    "name": "ipython",
    "version": 3
   },
   "file_extension": ".py",
   "mimetype": "text/x-python",
   "name": "python",
   "nbconvert_exporter": "python",
   "pygments_lexer": "ipython3",
   "version": "3.11.7"
  }
 },
 "nbformat": 4,
 "nbformat_minor": 5
}
